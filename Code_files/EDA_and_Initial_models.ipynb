{
  "nbformat": 4,
  "nbformat_minor": 0,
  "metadata": {
    "colab": {
      "name": "EDA_and_Initial_models.ipynb",
      "provenance": [],
      "collapsed_sections": []
    },
    "kernelspec": {
      "name": "python3",
      "display_name": "Python 3"
    },
    "language_info": {
      "name": "python"
    }
  },
  "cells": [
    {
      "cell_type": "markdown",
      "metadata": {
        "id": "gzQc19QK1OsT"
      },
      "source": [
        "<h1>\n",
        "Feature analysis and initial modelling\n",
        "</h1>"
      ]
    },
    {
      "cell_type": "markdown",
      "metadata": {
        "id": "LOzY4VSsj0-R"
      },
      "source": [
        "After finalizing the data, basic EDA is performed on it. Loading the final data is done, to perform EDA."
      ]
    },
    {
      "cell_type": "code",
      "metadata": {
        "colab": {
          "base_uri": "https://localhost:8080/"
        },
        "id": "ftPjXZHjTnus",
        "outputId": "547a76b3-d0db-46e9-f14a-52ad0453c101"
      },
      "source": [
        "#Importing Libraries\n",
        "import pandas as pd\n",
        "import re\n",
        "from textblob import TextBlob\n",
        "import numpy as np\n",
        "import nltk\n",
        "nltk.download('stopwords')\n",
        "nltk.download('punkt')\n",
        "nltk.download('averaged_perceptron_tagger')\n",
        "nltk.download('wordnet')\n",
        "from nltk import pos_tag, word_tokenize\n",
        "from nltk.corpus import stopwords\n",
        "from nltk.stem import WordNetLemmatizer\n",
        "from sklearn.metrics.pairwise import euclidean_distances\n",
        "from collections import Counter"
      ],
      "execution_count": 1,
      "outputs": [
        {
          "output_type": "stream",
          "text": [
            "[nltk_data] Downloading package stopwords to /root/nltk_data...\n",
            "[nltk_data]   Unzipping corpora/stopwords.zip.\n",
            "[nltk_data] Downloading package punkt to /root/nltk_data...\n",
            "[nltk_data]   Unzipping tokenizers/punkt.zip.\n",
            "[nltk_data] Downloading package averaged_perceptron_tagger to\n",
            "[nltk_data]     /root/nltk_data...\n",
            "[nltk_data]   Unzipping taggers/averaged_perceptron_tagger.zip.\n",
            "[nltk_data] Downloading package wordnet to /root/nltk_data...\n",
            "[nltk_data]   Unzipping corpora/wordnet.zip.\n"
          ],
          "name": "stdout"
        }
      ]
    },
    {
      "cell_type": "code",
      "metadata": {
        "colab": {
          "base_uri": "https://localhost:8080/",
          "height": 202
        },
        "id": "6c1V6TKyT1WJ",
        "outputId": "0bd36e51-9ce4-49ed-a1d5-736eebf88bf3"
      },
      "source": [
        "# Loading the final data\n",
        "data=pd.read_csv('final_data.csv')\n",
        "# Displaying rows and columns of the data\n",
        "print(data.shape)\n",
        "# Displaying the first row of the data.\n",
        "data.head(1)"
      ],
      "execution_count": 2,
      "outputs": [
        {
          "output_type": "stream",
          "text": [
            "(100000, 22)\n"
          ],
          "name": "stdout"
        },
        {
          "output_type": "execute_result",
          "data": {
            "text/html": [
              "<div>\n",
              "<style scoped>\n",
              "    .dataframe tbody tr th:only-of-type {\n",
              "        vertical-align: middle;\n",
              "    }\n",
              "\n",
              "    .dataframe tbody tr th {\n",
              "        vertical-align: top;\n",
              "    }\n",
              "\n",
              "    .dataframe thead th {\n",
              "        text-align: right;\n",
              "    }\n",
              "</style>\n",
              "<table border=\"1\" class=\"dataframe\">\n",
              "  <thead>\n",
              "    <tr style=\"text-align: right;\">\n",
              "      <th></th>\n",
              "      <th>review_id</th>\n",
              "      <th>user_id</th>\n",
              "      <th>business_id</th>\n",
              "      <th>review_stars</th>\n",
              "      <th>useful</th>\n",
              "      <th>funny</th>\n",
              "      <th>cool</th>\n",
              "      <th>text</th>\n",
              "      <th>date</th>\n",
              "      <th>name</th>\n",
              "      <th>address</th>\n",
              "      <th>city</th>\n",
              "      <th>state</th>\n",
              "      <th>postal_code</th>\n",
              "      <th>latitude</th>\n",
              "      <th>longitude</th>\n",
              "      <th>business_stars</th>\n",
              "      <th>review_count</th>\n",
              "      <th>is_open</th>\n",
              "      <th>attributes</th>\n",
              "      <th>categories</th>\n",
              "      <th>hours</th>\n",
              "    </tr>\n",
              "  </thead>\n",
              "  <tbody>\n",
              "    <tr>\n",
              "      <th>0</th>\n",
              "      <td>UmFMZ8PyXZTY2QcwzsfQYA</td>\n",
              "      <td>nIJD_7ZXHq-FX8byPMOkMQ</td>\n",
              "      <td>lbrU8StCq3yDfr-QMnGrmQ</td>\n",
              "      <td>1.0</td>\n",
              "      <td>1</td>\n",
              "      <td>1</td>\n",
              "      <td>0</td>\n",
              "      <td>I am actually horrified this place is still in...</td>\n",
              "      <td>2013-12-07 03:16:52</td>\n",
              "      <td>Rio Hair Salon</td>\n",
              "      <td>2990 N Alma School Rd</td>\n",
              "      <td>Chandler</td>\n",
              "      <td>AZ</td>\n",
              "      <td>85224</td>\n",
              "      <td>33.348382</td>\n",
              "      <td>-111.859189</td>\n",
              "      <td>1.5</td>\n",
              "      <td>3.0</td>\n",
              "      <td>1.0</td>\n",
              "      <td>NaN</td>\n",
              "      <td>Beauty &amp; Spas, Hair Salons</td>\n",
              "      <td>NaN</td>\n",
              "    </tr>\n",
              "  </tbody>\n",
              "</table>\n",
              "</div>"
            ],
            "text/plain": [
              "                review_id  ... hours\n",
              "0  UmFMZ8PyXZTY2QcwzsfQYA  ...   NaN\n",
              "\n",
              "[1 rows x 22 columns]"
            ]
          },
          "metadata": {
            "tags": []
          },
          "execution_count": 2
        }
      ]
    },
    {
      "cell_type": "code",
      "metadata": {
        "id": "s0knCkSKUFhF"
      },
      "source": [
        "# Returning the length of review id, text, star rating\n",
        "reviews=data[['review_id','text','review_stars']]\n",
        "def total_len(x):\n",
        "  return len(str(x).split())\n",
        "\n",
        "# Finding the length of stop words\n",
        "def stop_len(x):\n",
        "  stop=set(stopwords.words('english'))\n",
        "  stop_words=' '.join([i for i in str(x).lower().split() if i not in stop])\n",
        "  return len(stop_words.split())\n",
        "\n",
        "# Returning the length of new special string\n",
        "def special_len(x):\n",
        "  new=re.sub('[\\w]+','',str(x))\n",
        "  if len(new)>0:\n",
        "    return len(new)\n",
        "  else:\n",
        "    return 0\n",
        "\n",
        "# Returning the pos tag length\n",
        "def pos_tags(x):\n",
        "  specialChar=re.sub(r\"[^a-zA-Z]+\",'',str(x))\n",
        "  stop=set(stopwords.words('english'))\n",
        "  stop_words=' '.join([i for i in specialChar.lower().split() if i in stop])\n",
        "  mapping=pos_tag(word_tokenize(stop_words))\n",
        "  tags=([i[1] for i in mapping])\n",
        "  return dict(Counter(tags))\n",
        "\n",
        "  \n",
        "def lemma_len(x):\n",
        "  specialChar=re.sub(r\"[^a-zA-Z]+\",' ',str(x))\n",
        "  stop=set(stopwords.words('english'))\n",
        "  stop_words=' '.join([i for i in specialChar.lower().split() if i in stop])\n",
        "  wnl=WordNetLemmatizer()\n",
        "  para=[]\n",
        "  for word,tag in pos_tag(word_tokenize(stop_words)):\n",
        "    wntag=tag[0].lower()\n",
        "    wntag=wntag if wntag in ['a','r','n','v'] else None\n",
        "    if not wntag:\n",
        "      lemma=word\n",
        "    else:\n",
        "      lemma=wnl.lemmatize(word,wntag)\n",
        "    if lemma in stop_words.split():\n",
        "      pass\n",
        "    else:\n",
        "      para.append(lemma)\n",
        "\n",
        "  return len(para)\n",
        "\n",
        "# Loading the pos list into an array.\n",
        "def pos_list(df,col):\n",
        "  final=[]\n",
        "  for i in range(0, df[col].shape[0]):\n",
        "    for x in list(df[col][i].keys()):\n",
        "      if x not in final:\n",
        "        final.append(x)\n",
        "\n",
        "  for i in final:\n",
        "    def dummy(x):\n",
        "      if i in list(x.keys()):\n",
        "        return x[i]\n",
        "      else:\n",
        "        return 0\n",
        "    df[i]=df['pos_lis'].apply(dummy)\n",
        "\n",
        "  return df\n",
        "\n",
        "# Cleaning the data by removing the quotations, empty spaces, empty strings, removing urls, special characters\n",
        "def cleansing(x):\n",
        "  x=str(x)\n",
        "  quoteRemoval=x.replace('\"','')\n",
        "  spaceRemoval=re.sub(\"\\s\\s+\",\" \",quoteRemoval)\n",
        "  stringRemoval=spaceRemoval.strip()\n",
        "  urlRemove=re.sub(r'http\\S+','',stringRemoval)\n",
        "  specialChar=re.sub(r\"[^a-zA-Z]+\",' ',urlRemove)\n",
        "  return specialChar\n",
        "\n",
        "# Calculating the polarity\n",
        "def get_polarity(x):\n",
        "  try:\n",
        "    blob=TextBlob(x)\n",
        "    pol=blob.sentiment.polarity\n",
        "  except:\n",
        "    pol=0.0\n",
        "\n",
        "  return pol\n",
        "\n",
        "# Calculating the subjectivity    \n",
        "def get_subjectivity(x):\n",
        "  try:\n",
        "    blob=TextBlob(x)\n",
        "    subj=blob.sentiment.subjectivity\n",
        "  except:\n",
        "    subj=0.0\n",
        "\n",
        "  return subj"
      ],
      "execution_count": 3,
      "outputs": []
    },
    {
      "cell_type": "code",
      "metadata": {
        "colab": {
          "base_uri": "https://localhost:8080/"
        },
        "id": "diLyLdmDUk6A",
        "outputId": "2b61baca-7647-4e37-d420-30c79fe53915"
      },
      "source": [
        "#Applying the above functions to perform feature analysis and inital eda\n",
        "reviews['clean_text']=reviews['text'].apply(cleansing)\n",
        "reviews['total_len']=reviews['clean_text'].apply(total_len)\n",
        "reviews['stop_len']=reviews['clean_text'].apply(stop_len)\n",
        "reviews['special_len']=reviews['clean_text'].apply(special_len)\n",
        "reviews['lemma_len']=reviews['clean_text'].apply(lemma_len)\n",
        "reviews['polarity']=reviews['clean_text'].apply(get_polarity)\n",
        "reviews['subjectivity']=reviews['clean_text'].apply(get_subjectivity)\n",
        "\n",
        "reviews['word_count']=reviews['clean_text'].apply(lambda x : len(str(x).split()))\n",
        "reviews['word_density']=reviews['total_len']/(reviews['word_count']+1)\n",
        "reviews['unique_words']=reviews['clean_text'].apply(lambda x : len(set(str(x).split())))\n",
        "reviews['mean_word_len']=reviews['clean_text'].apply(lambda x : np.mean([len(i) for i in str(x).split()]))"
      ],
      "execution_count": 4,
      "outputs": [
        {
          "output_type": "stream",
          "text": [
            "/usr/local/lib/python3.7/dist-packages/ipykernel_launcher.py:1: SettingWithCopyWarning: \n",
            "A value is trying to be set on a copy of a slice from a DataFrame.\n",
            "Try using .loc[row_indexer,col_indexer] = value instead\n",
            "\n",
            "See the caveats in the documentation: https://pandas.pydata.org/pandas-docs/stable/user_guide/indexing.html#returning-a-view-versus-a-copy\n",
            "  \"\"\"Entry point for launching an IPython kernel.\n",
            "/usr/local/lib/python3.7/dist-packages/ipykernel_launcher.py:2: SettingWithCopyWarning: \n",
            "A value is trying to be set on a copy of a slice from a DataFrame.\n",
            "Try using .loc[row_indexer,col_indexer] = value instead\n",
            "\n",
            "See the caveats in the documentation: https://pandas.pydata.org/pandas-docs/stable/user_guide/indexing.html#returning-a-view-versus-a-copy\n",
            "  \n",
            "/usr/local/lib/python3.7/dist-packages/ipykernel_launcher.py:3: SettingWithCopyWarning: \n",
            "A value is trying to be set on a copy of a slice from a DataFrame.\n",
            "Try using .loc[row_indexer,col_indexer] = value instead\n",
            "\n",
            "See the caveats in the documentation: https://pandas.pydata.org/pandas-docs/stable/user_guide/indexing.html#returning-a-view-versus-a-copy\n",
            "  This is separate from the ipykernel package so we can avoid doing imports until\n",
            "/usr/local/lib/python3.7/dist-packages/ipykernel_launcher.py:4: SettingWithCopyWarning: \n",
            "A value is trying to be set on a copy of a slice from a DataFrame.\n",
            "Try using .loc[row_indexer,col_indexer] = value instead\n",
            "\n",
            "See the caveats in the documentation: https://pandas.pydata.org/pandas-docs/stable/user_guide/indexing.html#returning-a-view-versus-a-copy\n",
            "  after removing the cwd from sys.path.\n",
            "/usr/local/lib/python3.7/dist-packages/ipykernel_launcher.py:5: SettingWithCopyWarning: \n",
            "A value is trying to be set on a copy of a slice from a DataFrame.\n",
            "Try using .loc[row_indexer,col_indexer] = value instead\n",
            "\n",
            "See the caveats in the documentation: https://pandas.pydata.org/pandas-docs/stable/user_guide/indexing.html#returning-a-view-versus-a-copy\n",
            "  \"\"\"\n",
            "/usr/local/lib/python3.7/dist-packages/ipykernel_launcher.py:6: SettingWithCopyWarning: \n",
            "A value is trying to be set on a copy of a slice from a DataFrame.\n",
            "Try using .loc[row_indexer,col_indexer] = value instead\n",
            "\n",
            "See the caveats in the documentation: https://pandas.pydata.org/pandas-docs/stable/user_guide/indexing.html#returning-a-view-versus-a-copy\n",
            "  \n",
            "/usr/local/lib/python3.7/dist-packages/ipykernel_launcher.py:7: SettingWithCopyWarning: \n",
            "A value is trying to be set on a copy of a slice from a DataFrame.\n",
            "Try using .loc[row_indexer,col_indexer] = value instead\n",
            "\n",
            "See the caveats in the documentation: https://pandas.pydata.org/pandas-docs/stable/user_guide/indexing.html#returning-a-view-versus-a-copy\n",
            "  import sys\n",
            "/usr/local/lib/python3.7/dist-packages/ipykernel_launcher.py:9: SettingWithCopyWarning: \n",
            "A value is trying to be set on a copy of a slice from a DataFrame.\n",
            "Try using .loc[row_indexer,col_indexer] = value instead\n",
            "\n",
            "See the caveats in the documentation: https://pandas.pydata.org/pandas-docs/stable/user_guide/indexing.html#returning-a-view-versus-a-copy\n",
            "  if __name__ == '__main__':\n",
            "/usr/local/lib/python3.7/dist-packages/ipykernel_launcher.py:10: SettingWithCopyWarning: \n",
            "A value is trying to be set on a copy of a slice from a DataFrame.\n",
            "Try using .loc[row_indexer,col_indexer] = value instead\n",
            "\n",
            "See the caveats in the documentation: https://pandas.pydata.org/pandas-docs/stable/user_guide/indexing.html#returning-a-view-versus-a-copy\n",
            "  # Remove the CWD from sys.path while we load stuff.\n",
            "/usr/local/lib/python3.7/dist-packages/ipykernel_launcher.py:11: SettingWithCopyWarning: \n",
            "A value is trying to be set on a copy of a slice from a DataFrame.\n",
            "Try using .loc[row_indexer,col_indexer] = value instead\n",
            "\n",
            "See the caveats in the documentation: https://pandas.pydata.org/pandas-docs/stable/user_guide/indexing.html#returning-a-view-versus-a-copy\n",
            "  # This is added back by InteractiveShellApp.init_path()\n",
            "/usr/local/lib/python3.7/dist-packages/numpy/core/fromnumeric.py:3373: RuntimeWarning: Mean of empty slice.\n",
            "  out=out, **kwargs)\n",
            "/usr/local/lib/python3.7/dist-packages/ipykernel_launcher.py:12: SettingWithCopyWarning: \n",
            "A value is trying to be set on a copy of a slice from a DataFrame.\n",
            "Try using .loc[row_indexer,col_indexer] = value instead\n",
            "\n",
            "See the caveats in the documentation: https://pandas.pydata.org/pandas-docs/stable/user_guide/indexing.html#returning-a-view-versus-a-copy\n",
            "  if sys.path[0] == '':\n"
          ],
          "name": "stderr"
        }
      ]
    },
    {
      "cell_type": "code",
      "metadata": {
        "id": "qkb9PJ_ZV3G3"
      },
      "source": [
        "# Converting the features into final_feature\n",
        "reviews.to_csv('final_full_feature_reviews.csv', index=False)"
      ],
      "execution_count": 5,
      "outputs": []
    },
    {
      "cell_type": "markdown",
      "metadata": {
        "id": "4pDqDD0VaZE9"
      },
      "source": [
        "**EDA**"
      ]
    },
    {
      "cell_type": "code",
      "metadata": {
        "colab": {
          "base_uri": "https://localhost:8080/"
        },
        "id": "8IqNyVuNVua3",
        "outputId": "db899eaa-cdd7-4802-ef28-011b22c183dd"
      },
      "source": [
        "# Displaying the top 10 cities with most reviews.\n",
        "n=10\n",
        "df2=data['city'].value_counts().nlargest(n)\n",
        "df2"
      ],
      "execution_count": 20,
      "outputs": [
        {
          "output_type": "execute_result",
          "data": {
            "text/plain": [
              "Las Vegas     29770\n",
              "Phoenix       10241\n",
              "Toronto        7370\n",
              "Scottsdale     5531\n",
              "Charlotte      5467\n",
              "Pittsburgh     3892\n",
              "Henderson      3534\n",
              "Tempe          2926\n",
              "Montr√©al      2600\n",
              "Mesa           2391\n",
              "Name: city, dtype: int64"
            ]
          },
          "metadata": {
            "tags": []
          },
          "execution_count": 20
        }
      ]
    },
    {
      "cell_type": "code",
      "metadata": {
        "colab": {
          "base_uri": "https://localhost:8080/",
          "height": 327
        },
        "id": "00nAD7s0W8st",
        "outputId": "2858803d-4c9b-42f5-d8c0-94fcf9ce4cdb"
      },
      "source": [
        "# Plotting the graph for top 10 cities with most reviews\n",
        "df2.plot(kind='bar')"
      ],
      "execution_count": 21,
      "outputs": [
        {
          "output_type": "execute_result",
          "data": {
            "text/plain": [
              "<matplotlib.axes._subplots.AxesSubplot at 0x7efc30083ad0>"
            ]
          },
          "metadata": {
            "tags": []
          },
          "execution_count": 21
        },
        {
          "output_type": "display_data",
          "data": {
            "image/png": "[encoded data removed]",
            "text/plain": [
              "<Figure size 432x288 with 1 Axes>"
            ]
          },
          "metadata": {
            "tags": [],
            "needs_background": "light"
          }
        }
      ]
    },
    {
      "cell_type": "code",
      "metadata": {
        "colab": {
          "base_uri": "https://localhost:8080/",
          "height": 297
        },
        "id": "_4bhPSYDabt-",
        "outputId": "67d88624-c00a-4a18-b7bc-d68033af04c5"
      },
      "source": [
        "# Finding the mean length of the reviews based on star rating.\n",
        "import seaborn as sns\n",
        "temp=reviews.groupby('review_stars')['total_len'].agg('mean').reset_index()\n",
        "temp.columns=['review_stars','mean_len']\n",
        "sns.barplot(x='review_stars', y='mean_len', data=temp)"
      ],
      "execution_count": 6,
      "outputs": [
        {
          "output_type": "execute_result",
          "data": {
            "text/plain": [
              "<matplotlib.axes._subplots.AxesSubplot at 0x7efc321c4890>"
            ]
          },
          "metadata": {
            "tags": []
          },
          "execution_count": 6
        },
        {
          "output_type": "display_data",
          "data": {
            "image/png": "[encoded data removed]",
            "text/plain": [
              "<Figure size 432x288 with 1 Axes>"
            ]
          },
          "metadata": {
            "tags": [],
            "needs_background": "light"
          }
        }
      ]
    },
    {
      "cell_type": "code",
      "metadata": {
        "colab": {
          "base_uri": "https://localhost:8080/"
        },
        "id": "Y6_vXi_o_M09",
        "outputId": "a4b8c042-86ff-405a-9c96-7b3582de2dbb"
      },
      "source": [
        "print(temp)"
      ],
      "execution_count": 7,
      "outputs": [
        {
          "output_type": "stream",
          "text": [
            "   review_stars    mean_len\n",
            "0           1.0  133.798646\n",
            "1           2.0  136.262553\n",
            "2           3.0  129.591824\n",
            "3           4.0  111.357334\n",
            "4           5.0   86.028511\n"
          ],
          "name": "stdout"
        }
      ]
    },
    {
      "cell_type": "markdown",
      "metadata": {
        "id": "VpE_iPGQajDy"
      },
      "source": [
        "**Best Review has less mean length**"
      ]
    },
    {
      "cell_type": "code",
      "metadata": {
        "colab": {
          "base_uri": "https://localhost:8080/",
          "height": 297
        },
        "id": "QZsBY8Shabpm",
        "outputId": "ab2158d2-938a-4ed0-ced8-6771239b5aa8"
      },
      "source": [
        "# Finding the length of stop words based on star rating\n",
        "temp=reviews.groupby('review_stars')['stop_len'].agg('mean').reset_index()\n",
        "temp.columns=['review_stars','mean_stop_len']\n",
        "sns.barplot(x='review_stars', y='mean_stop_len', data=temp)"
      ],
      "execution_count": 8,
      "outputs": [
        {
          "output_type": "execute_result",
          "data": {
            "text/plain": [
              "<matplotlib.axes._subplots.AxesSubplot at 0x7efc321c5450>"
            ]
          },
          "metadata": {
            "tags": []
          },
          "execution_count": 8
        },
        {
          "output_type": "display_data",
          "data": {
            "image/png": "[encoded data removed]",
            "text/plain": [
              "<Figure size 432x288 with 1 Axes>"
            ]
          },
          "metadata": {
            "tags": [],
            "needs_background": "light"
          }
        }
      ]
    },
    {
      "cell_type": "code",
      "metadata": {
        "colab": {
          "base_uri": "https://localhost:8080/"
        },
        "id": "pZ3kzShp_fGN",
        "outputId": "334ec8c9-765e-4765-ba49-16065bf086d8"
      },
      "source": [
        "print(temp)"
      ],
      "execution_count": 9,
      "outputs": [
        {
          "output_type": "stream",
          "text": [
            "   review_stars  mean_stop_len\n",
            "0           1.0      62.877602\n",
            "1           2.0      64.962737\n",
            "2           3.0      63.062439\n",
            "3           4.0      55.662881\n",
            "4           5.0      43.216721\n"
          ],
          "name": "stdout"
        }
      ]
    },
    {
      "cell_type": "markdown",
      "metadata": {
        "id": "zsWhEU6pank7"
      },
      "source": [
        "**Best review has less stop words**"
      ]
    },
    {
      "cell_type": "code",
      "metadata": {
        "colab": {
          "base_uri": "https://localhost:8080/",
          "height": 297
        },
        "id": "mcZF9iBLablj",
        "outputId": "89855e1a-1a17-440b-ad0d-202b8661da66"
      },
      "source": [
        "# Finding the average number of words for individual star rating.\n",
        "temp=reviews.groupby('review_stars')['word_count'].agg('mean').reset_index()\n",
        "temp.columns=['review_stars','mean_word_count']\n",
        "sns.barplot(x='review_stars', y='mean_word_count', data=temp)"
      ],
      "execution_count": 10,
      "outputs": [
        {
          "output_type": "execute_result",
          "data": {
            "text/plain": [
              "<matplotlib.axes._subplots.AxesSubplot at 0x7efc32264990>"
            ]
          },
          "metadata": {
            "tags": []
          },
          "execution_count": 10
        },
        {
          "output_type": "display_data",
          "data": {
            "image/png": "[encoded data removed]",
            "text/plain": [
              "<Figure size 432x288 with 1 Axes>"
            ]
          },
          "metadata": {
            "tags": [],
            "needs_background": "light"
          }
        }
      ]
    },
    {
      "cell_type": "markdown",
      "metadata": {
        "id": "YNwRiVp1apuY"
      },
      "source": [
        "**Best Review has less words**"
      ]
    },
    {
      "cell_type": "markdown",
      "metadata": {
        "id": "J1nOjYkh_i2l"
      },
      "source": [
        "<b><h1> LGBM Model: </h1><b>"
      ]
    },
    {
      "cell_type": "code",
      "metadata": {
        "id": "K3K8wiMMXveo"
      },
      "source": [
        "# Importing libraries\n",
        "from sklearn.model_selection import train_test_split"
      ],
      "execution_count": 11,
      "outputs": []
    },
    {
      "cell_type": "code",
      "metadata": {
        "colab": {
          "base_uri": "https://localhost:8080/"
        },
        "id": "v4Fu20vbWF0k",
        "outputId": "923ef988-333c-4172-b4ef-50ceef9c402f"
      },
      "source": [
        "# Importing csv file\n",
        "f=pd.read_csv(\"final_full_feature_reviews.csv\")\n",
        "\n",
        "# Applying lambda function\n",
        "f['review_stars']=f['review_stars'].apply(lambda x : int(x-1))\n",
        "X=f.drop(['review_id','clean_text','text','review_stars'], axis=1)\n",
        "y=f[['review_stars']]\n",
        "\n",
        "# Evaluating the X_train, X_test, Y_train, Y_test and assigning test size as 0.2\n",
        "X_train, X_test, y_train, y_test = train_test_split(X, y, test_size=0.2, random_state=42,stratify=y)\n",
        "X_train, X_val, y_train, y_val= train_test_split(X_train, y_train, test_size=0.2, random_state=42,stratify=y_train)\n",
        "\n",
        "#Printing size of X_train\n",
        "print(\"Train : \", X_train.shape)\n",
        "\n",
        "#Printing size of X_validation\n",
        "print(\"Valid : \", X_val.shape)\n",
        "\n",
        "#Printing size of X_test\n",
        "print(\"Test : \", X_test.shape)\n",
        "print(y_train.review_stars.value_counts())"
      ],
      "execution_count": 13,
      "outputs": [
        {
          "output_type": "stream",
          "text": [
            "Train :  (64000, 10)\n",
            "Valid :  (16000, 10)\n",
            "Test :  (20000, 10)\n",
            "4    28217\n",
            "3    14595\n",
            "0     8795\n",
            "2     7155\n",
            "1     5238\n",
            "Name: review_stars, dtype: int64\n"
          ],
          "name": "stdout"
        }
      ]
    },
    {
      "cell_type": "code",
      "metadata": {
        "id": "WX8oqydfX5-f"
      },
      "source": [
        "# Importing lgbm libraries\n",
        "import lightgbm as lgb\n",
        "from sklearn.metrics import f1_score\n",
        "import numpy as np"
      ],
      "execution_count": 14,
      "outputs": []
    },
    {
      "cell_type": "code",
      "metadata": {
        "colab": {
          "base_uri": "https://localhost:8080/"
        },
        "id": "d8bXshTUYF3k",
        "outputId": "b74ef689-4539-4cd2-b6a0-e899e75296f5"
      },
      "source": [
        "# Loading X_train, y_train to lgmb_train\n",
        "lgb_train=lgb.Dataset(X_train,label=list(y_train.review_stars))\n",
        "lgb_val=lgb.Dataset(X_val,label=list(y_val.review_stars))\n",
        "# Setting the parameters like multiclass and number of classes as 5 as there are 5 categories for reviews\n",
        "params={'application':'multiclass',\n",
        "        'num_class':5,\n",
        "        'learning_rate':0.01,\n",
        "        }\n",
        "model=lgb.train(params,num_boost_round=10000,early_stopping_rounds=1000,verbose_eval=1000,train_set=lgb_train, valid_sets=[lgb_train, lgb_val])\n",
        "\n",
        "preds=model.predict(X_test[X_train.columns])\n",
        "y_pred = []\n",
        "\n",
        "for x in preds:\n",
        "    y_pred.append(np.argmax(x))\n",
        "\n",
        "res1=pd.DataFrame()\n",
        "res1['actual']=list(y_test['review_stars'])\n",
        "res1['prediction']=y_pred\n",
        "res1['prediction']=res1['prediction']\n",
        "print(res1.head())\n",
        "# Crosstab of actual vs predicted data\n",
        "print(pd.crosstab(res1.actual, res1.prediction))\n",
        "# Calculate and print the accuracy, precision, Recall and F1 Score\n",
        "from sklearn.metrics import *\n",
        "print(\"Accuracy is \",accuracy_score(res1.actual, res1.prediction))\n",
        "print(\"Precision is \",precision_score(res1.actual, res1.prediction, average='weighted'))\n",
        "print(\"Recall is \",recall_score(res1.actual, res1.prediction, average='weighted'))\n",
        "print(\"F1-Score is \",f1_score(res1.actual, res1.prediction, average='weighted'))\n"
      ],
      "execution_count": 15,
      "outputs": [
        {
          "output_type": "stream",
          "text": [
            "Training until validation scores don't improve for 1000 rounds.\n",
            "[1000]\ttraining's multi_logloss: 1.05827\tvalid_1's multi_logloss: 1.11735\n",
            "Early stopping, best iteration is:\n",
            "[944]\ttraining's multi_logloss: 1.06153\tvalid_1's multi_logloss: 1.1173\n",
            "   actual  prediction\n",
            "0       4           4\n",
            "1       3           4\n",
            "2       1           0\n",
            "3       4           4\n",
            "4       2           0\n",
            "prediction     0   1   2    3     4\n",
            "actual                             \n",
            "0           2066  42  64  146   430\n",
            "1            758  62  84  222   511\n",
            "2            461  49  90  404  1232\n",
            "3            323  36  90  514  3598\n",
            "4            332  30  57  447  7952\n",
            "Accuracy is  0.5342\n",
            "Precision is  0.4444798083823014\n",
            "Recall is  0.5342\n",
            "F1-Score is  0.44636358693703404\n"
          ],
          "name": "stdout"
        }
      ]
    },
    {
      "cell_type": "markdown",
      "metadata": {
        "id": "fZ8E49aGaUoy"
      },
      "source": [
        "<h1><b>Cat Boost Classifier</b></h1>"
      ]
    },
    {
      "cell_type": "code",
      "metadata": {
        "colab": {
          "base_uri": "https://localhost:8080/"
        },
        "id": "kxw6LjDjYIoH",
        "outputId": "c513ccc6-9f5e-494a-8a6a-927b72b66685"
      },
      "source": [
        "# Import Libraries\n",
        "!pip install catboost\n",
        "from catboost import CatBoostClassifier"
      ],
      "execution_count": 16,
      "outputs": [
        {
          "output_type": "stream",
          "text": [
            "Collecting catboost\n",
            "\u001b[?25l  Downloading https://files.pythonhosted.org/packages/47/80/8e9c57ec32dfed6ba2922bc5c96462cbf8596ce1a6f5de532ad1e43e53fe/catboost-0.25.1-cp37-none-manylinux1_x86_64.whl (67.3MB)\n",
            "\u001b[K     |████████████████████████████████| 67.3MB 59kB/s \n",
            "\u001b[?25hRequirement already satisfied: six in /usr/local/lib/python3.7/dist-packages (from catboost) (1.15.0)\n",
            "Requirement already satisfied: scipy in /usr/local/lib/python3.7/dist-packages (from catboost) (1.4.1)\n",
            "Requirement already satisfied: plotly in /usr/local/lib/python3.7/dist-packages (from catboost) (4.4.1)\n",
            "Requirement already satisfied: pandas>=0.24.0 in /usr/local/lib/python3.7/dist-packages (from catboost) (1.1.5)\n",
            "Requirement already satisfied: graphviz in /usr/local/lib/python3.7/dist-packages (from catboost) (0.10.1)\n",
            "Requirement already satisfied: matplotlib in /usr/local/lib/python3.7/dist-packages (from catboost) (3.2.2)\n",
            "Requirement already satisfied: numpy>=1.16.0 in /usr/local/lib/python3.7/dist-packages (from catboost) (1.19.5)\n",
            "Requirement already satisfied: retrying>=1.3.3 in /usr/local/lib/python3.7/dist-packages (from plotly->catboost) (1.3.3)\n",
            "Requirement already satisfied: python-dateutil>=2.7.3 in /usr/local/lib/python3.7/dist-packages (from pandas>=0.24.0->catboost) (2.8.1)\n",
            "Requirement already satisfied: pytz>=2017.2 in /usr/local/lib/python3.7/dist-packages (from pandas>=0.24.0->catboost) (2018.9)\n",
            "Requirement already satisfied: kiwisolver>=1.0.1 in /usr/local/lib/python3.7/dist-packages (from matplotlib->catboost) (1.3.1)\n",
            "Requirement already satisfied: pyparsing!=2.0.4,!=2.1.2,!=2.1.6,>=2.0.1 in /usr/local/lib/python3.7/dist-packages (from matplotlib->catboost) (2.4.7)\n",
            "Requirement already satisfied: cycler>=0.10 in /usr/local/lib/python3.7/dist-packages (from matplotlib->catboost) (0.10.0)\n",
            "Installing collected packages: catboost\n",
            "Successfully installed catboost-0.25.1\n"
          ],
          "name": "stdout"
        }
      ]
    },
    {
      "cell_type": "code",
      "metadata": {
        "colab": {
          "base_uri": "https://localhost:8080/"
        },
        "id": "GczK2S3-YF0O",
        "outputId": "42ad1e00-ff4b-4cd6-aa60-68d8db7d8a39"
      },
      "source": [
        "# Calucate the learning rate \n",
        "cat_model=CatBoostClassifier(loss_function='MultiClass', iterations=10000, learning_rate=0.01,verbose=1000)\n",
        "# Fit the model to X_train and Y_train\n",
        "cat_model.fit(X_train, y_train)"
      ],
      "execution_count": 17,
      "outputs": [
        {
          "output_type": "stream",
          "text": [
            "0:\tlearn: 1.5997566\ttotal: 111ms\tremaining: 18m 31s\n",
            "1000:\tlearn: 1.1134021\ttotal: 56.1s\tremaining: 8m 24s\n",
            "2000:\tlearn: 1.0968763\ttotal: 1m 51s\tremaining: 7m 25s\n",
            "3000:\tlearn: 1.0835052\ttotal: 2m 47s\tremaining: 6m 29s\n",
            "4000:\tlearn: 1.0715893\ttotal: 3m 43s\tremaining: 5m 34s\n",
            "5000:\tlearn: 1.0605016\ttotal: 4m 39s\tremaining: 4m 39s\n",
            "6000:\tlearn: 1.0500117\ttotal: 5m 36s\tremaining: 3m 44s\n",
            "7000:\tlearn: 1.0399378\ttotal: 6m 32s\tremaining: 2m 48s\n",
            "8000:\tlearn: 1.0303574\ttotal: 7m 29s\tremaining: 1m 52s\n",
            "9000:\tlearn: 1.0209867\ttotal: 8m 28s\tremaining: 56.4s\n",
            "9999:\tlearn: 1.0117442\ttotal: 9m 27s\tremaining: 0us\n"
          ],
          "name": "stdout"
        },
        {
          "output_type": "execute_result",
          "data": {
            "text/plain": [
              "<catboost.core.CatBoostClassifier at 0x7efc322c8c90>"
            ]
          },
          "metadata": {
            "tags": []
          },
          "execution_count": 17
        }
      ]
    },
    {
      "cell_type": "code",
      "metadata": {
        "colab": {
          "base_uri": "https://localhost:8080/"
        },
        "id": "IufxIpy4YFw_",
        "outputId": "c43718a2-44d5-4cbe-9500-e27baaa11990"
      },
      "source": [
        "preds=cat_model.predict(X_test[X_train.columns])\n",
        "res2=pd.DataFrame()\n",
        "# Set the actual data with y_test of review_stars\n",
        "res2['actual']=list(y_test['review_stars'])\n",
        "res2['prediction']=preds\n",
        "res2['prediction']=res2['prediction']\n",
        "print(res2.head())\n",
        "# Crosstab of actual vs predicted data\n",
        "print(pd.crosstab(res2.actual, res2.prediction))\n",
        "# Calculate and print the accuracy, precission, recall and F-1 score.\n",
        "from sklearn.metrics import *\n",
        "print(\"Accuracy is \",accuracy_score(res2.actual, res2.prediction)*100)\n",
        "print(\"Precision is \",precision_score(res2.actual, res2.prediction, average='weighted'))\n",
        "print(\"Recall is \",recall_score(res2.actual, res2.prediction, average='weighted'))\n",
        "print(\"F1-Score is \",f1_score(res2.actual, res2.prediction, average='weighted'))\n",
        "\n"
      ],
      "execution_count": null,
      "outputs": [
        {
          "output_type": "stream",
          "text": [
            "   actual  prediction\n",
            "0       4           4\n",
            "1       3           4\n",
            "2       1           0\n",
            "3       4           4\n",
            "4       2           0\n",
            "prediction     0    1    2    3     4\n",
            "actual                               \n",
            "0           2029   81   89  115   434\n",
            "1            707  103  126  222   479\n",
            "2            418   69  156  400  1193\n",
            "3            273   54  146  605  3483\n",
            "4            311   37  106  531  7833\n",
            "Accuracy is  53.63\n",
            "Precision is  0.4580528415000786\n",
            "Recall is  0.5363\n",
            "F1-Score is  0.4601377464575189\n"
          ],
          "name": "stdout"
        }
      ]
    },
    {
      "cell_type": "code",
      "metadata": {
        "id": "hmhs8kFsYFuD"
      },
      "source": [
        ""
      ],
      "execution_count": null,
      "outputs": []
    }
  ]
}