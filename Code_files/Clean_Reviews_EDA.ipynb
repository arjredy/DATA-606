{
  "nbformat": 4,
  "nbformat_minor": 0,
  "metadata": {
    "colab": {
      "name": "Clean_Reviews_EDA.ipynb",
      "provenance": [],
      "collapsed_sections": []
    },
    "kernelspec": {
      "name": "python3",
      "display_name": "Python 3"
    }
  },
  "cells": [
    {
      "cell_type": "code",
      "metadata": {
        "colab": {
          "base_uri": "https://localhost:8080/"
        },
        "id": "YRANWXIM7VPd",
        "outputId": "781ca64c-f476-453d-f277-db2225512fa9"
      },
      "source": [
        "import pandas as pd\n",
        "import re\n",
        "from textblob import TextBlob\n",
        "import numpy as np\n",
        "import nltk\n",
        "from nltk import pos_tag, word_tokenize\n",
        "from nltk.corpus import stopwords\n",
        "from nltk.stem import WordNetLemmatizer\n",
        "from sklearn.metrics.pairwise import euclidean_distances\n",
        "from collections import Counter\n",
        "nltk.download('stopwords')\n",
        "nltk.download('punkt')\n",
        "nltk.download('averaged_perceptron_tagger')\n",
        "nltk.download('wordnet')"
      ],
      "execution_count": null,
      "outputs": [
        {
          "output_type": "stream",
          "text": [
            "[nltk_data] Downloading package stopwords to /root/nltk_data...\n",
            "[nltk_data]   Unzipping corpora/stopwords.zip.\n",
            "[nltk_data] Downloading package punkt to /root/nltk_data...\n",
            "[nltk_data]   Unzipping tokenizers/punkt.zip.\n",
            "[nltk_data] Downloading package averaged_perceptron_tagger to\n",
            "[nltk_data]     /root/nltk_data...\n",
            "[nltk_data]   Unzipping taggers/averaged_perceptron_tagger.zip.\n",
            "[nltk_data] Downloading package wordnet to /root/nltk_data...\n",
            "[nltk_data]   Unzipping corpora/wordnet.zip.\n"
          ],
          "name": "stdout"
        },
        {
          "output_type": "execute_result",
          "data": {
            "text/plain": [
              "True"
            ]
          },
          "metadata": {
            "tags": []
          },
          "execution_count": 1
        }
      ]
    },
    {
      "cell_type": "code",
      "metadata": {
        "id": "s6Cv2xpH7efd"
      },
      "source": [
        "data=pd.read_csv(\"final_data.csv\")"
      ],
      "execution_count": null,
      "outputs": []
    },
    {
      "cell_type": "code",
      "metadata": {
        "colab": {
          "base_uri": "https://localhost:8080/",
          "height": 1000
        },
        "id": "fhwmNe5k7h0Z",
        "outputId": "b0a6aec5-4669-4f33-fea8-b30ebe4e6f90"
      },
      "source": [
        "data.head(10)"
      ],
      "execution_count": null,
      "outputs": [
        {
          "output_type": "execute_result",
          "data": {
            "text/html": [
              "<div>\n",
              "<style scoped>\n",
              "    .dataframe tbody tr th:only-of-type {\n",
              "        vertical-align: middle;\n",
              "    }\n",
              "\n",
              "    .dataframe tbody tr th {\n",
              "        vertical-align: top;\n",
              "    }\n",
              "\n",
              "    .dataframe thead th {\n",
              "        text-align: right;\n",
              "    }\n",
              "</style>\n",
              "<table border=\"1\" class=\"dataframe\">\n",
              "  <thead>\n",
              "    <tr style=\"text-align: right;\">\n",
              "      <th></th>\n",
              "      <th>review_id</th>\n",
              "      <th>user_id</th>\n",
              "      <th>business_id</th>\n",
              "      <th>review_stars</th>\n",
              "      <th>useful</th>\n",
              "      <th>funny</th>\n",
              "      <th>cool</th>\n",
              "      <th>text</th>\n",
              "      <th>date</th>\n",
              "      <th>name</th>\n",
              "      <th>address</th>\n",
              "      <th>city</th>\n",
              "      <th>state</th>\n",
              "      <th>postal_code</th>\n",
              "      <th>latitude</th>\n",
              "      <th>longitude</th>\n",
              "      <th>business_stars</th>\n",
              "      <th>review_count</th>\n",
              "      <th>is_open</th>\n",
              "      <th>attributes</th>\n",
              "      <th>categories</th>\n",
              "      <th>hours</th>\n",
              "    </tr>\n",
              "  </thead>\n",
              "  <tbody>\n",
              "    <tr>\n",
              "      <th>0</th>\n",
              "      <td>UmFMZ8PyXZTY2QcwzsfQYA</td>\n",
              "      <td>nIJD_7ZXHq-FX8byPMOkMQ</td>\n",
              "      <td>lbrU8StCq3yDfr-QMnGrmQ</td>\n",
              "      <td>1.0</td>\n",
              "      <td>1</td>\n",
              "      <td>1</td>\n",
              "      <td>0</td>\n",
              "      <td>I am actually horrified this place is still in...</td>\n",
              "      <td>2013-12-07 03:16:52</td>\n",
              "      <td>Rio Hair Salon</td>\n",
              "      <td>2990 N Alma School Rd</td>\n",
              "      <td>Chandler</td>\n",
              "      <td>AZ</td>\n",
              "      <td>85224</td>\n",
              "      <td>33.348382</td>\n",
              "      <td>-111.859189</td>\n",
              "      <td>1.5</td>\n",
              "      <td>3.0</td>\n",
              "      <td>1.0</td>\n",
              "      <td>NaN</td>\n",
              "      <td>Beauty &amp; Spas, Hair Salons</td>\n",
              "      <td>NaN</td>\n",
              "    </tr>\n",
              "    <tr>\n",
              "      <th>1</th>\n",
              "      <td>LG2ZaYiOgpr2DK_90pYjNw</td>\n",
              "      <td>V34qejxNsCbcgD8C0HVk-Q</td>\n",
              "      <td>HQl28KMwrEKHqhFrrDqVNQ</td>\n",
              "      <td>5.0</td>\n",
              "      <td>1</td>\n",
              "      <td>0</td>\n",
              "      <td>0</td>\n",
              "      <td>I love Deagan's. I do. I really do. The atmosp...</td>\n",
              "      <td>2015-12-05 03:18:11</td>\n",
              "      <td>Deagan's Kitchen &amp; Bar</td>\n",
              "      <td>14810 Detroit Ave</td>\n",
              "      <td>Lakewood</td>\n",
              "      <td>OH</td>\n",
              "      <td>44107</td>\n",
              "      <td>41.485192</td>\n",
              "      <td>-81.800145</td>\n",
              "      <td>4.0</td>\n",
              "      <td>417.0</td>\n",
              "      <td>1.0</td>\n",
              "      <td>NaN</td>\n",
              "      <td>Restaurants, Gastropubs, Nightlife, American (...</td>\n",
              "      <td>NaN</td>\n",
              "    </tr>\n",
              "    <tr>\n",
              "      <th>2</th>\n",
              "      <td>i6g_oA9Yf9Y31qt0wibXpw</td>\n",
              "      <td>ofKDkJKXSKZXu5xJNGiiBQ</td>\n",
              "      <td>5JxlZaqCnk1MnbgRirs40Q</td>\n",
              "      <td>1.0</td>\n",
              "      <td>0</td>\n",
              "      <td>0</td>\n",
              "      <td>0</td>\n",
              "      <td>Dismal, lukewarm, defrosted-tasting \"TexMex\" g...</td>\n",
              "      <td>2011-05-27 05:30:52</td>\n",
              "      <td>Cabo Mexican Restaurant</td>\n",
              "      <td>Red Rock Casino Resort &amp; Spa, 11014 W Charlest...</td>\n",
              "      <td>Las Vegas</td>\n",
              "      <td>NV</td>\n",
              "      <td>89135</td>\n",
              "      <td>36.118343</td>\n",
              "      <td>-115.338821</td>\n",
              "      <td>3.5</td>\n",
              "      <td>56.0</td>\n",
              "      <td>0.0</td>\n",
              "      <td>NaN</td>\n",
              "      <td>Restaurants, Mexican</td>\n",
              "      <td>NaN</td>\n",
              "    </tr>\n",
              "    <tr>\n",
              "      <th>3</th>\n",
              "      <td>6TdNDKywdbjoTkizeMce8A</td>\n",
              "      <td>UgMW8bLE0QMJDCkQ1Ax5Mg</td>\n",
              "      <td>IS4cv902ykd8wj1TR0N3-A</td>\n",
              "      <td>4.0</td>\n",
              "      <td>0</td>\n",
              "      <td>0</td>\n",
              "      <td>0</td>\n",
              "      <td>Oh happy day, finally have a Canes near my cas...</td>\n",
              "      <td>2017-01-14 21:56:57</td>\n",
              "      <td>Raising Cane's Chicken Fingers</td>\n",
              "      <td>110 N Stephanie St</td>\n",
              "      <td>Henderson</td>\n",
              "      <td>NV</td>\n",
              "      <td>89074</td>\n",
              "      <td>36.035068</td>\n",
              "      <td>-115.046353</td>\n",
              "      <td>3.5</td>\n",
              "      <td>159.0</td>\n",
              "      <td>1.0</td>\n",
              "      <td>NaN</td>\n",
              "      <td>Fast Food, Restaurants, Sandwiches, Chicken Wings</td>\n",
              "      <td>NaN</td>\n",
              "    </tr>\n",
              "    <tr>\n",
              "      <th>4</th>\n",
              "      <td>L2O_INwlrRuoX05KSjc4eg</td>\n",
              "      <td>5vD2kmE25YBrbayKhykNxQ</td>\n",
              "      <td>nlxHRv1zXGT0c0K51q3jDg</td>\n",
              "      <td>5.0</td>\n",
              "      <td>2</td>\n",
              "      <td>0</td>\n",
              "      <td>0</td>\n",
              "      <td>This is definitely my favorite fast food sub s...</td>\n",
              "      <td>2013-05-07 07:25:25</td>\n",
              "      <td>Firehouse Subs</td>\n",
              "      <td>510 Marks St, Unit B-1, Ste 110</td>\n",
              "      <td>Henderson</td>\n",
              "      <td>NV</td>\n",
              "      <td>89014</td>\n",
              "      <td>36.059969</td>\n",
              "      <td>-115.036032</td>\n",
              "      <td>3.0</td>\n",
              "      <td>93.0</td>\n",
              "      <td>1.0</td>\n",
              "      <td>NaN</td>\n",
              "      <td>Restaurants, Delis, Sandwiches, Fast Food</td>\n",
              "      <td>NaN</td>\n",
              "    </tr>\n",
              "    <tr>\n",
              "      <th>5</th>\n",
              "      <td>ZayJ1zWyWgY9S_TRLT_y9Q</td>\n",
              "      <td>aq_ZxGHiri48TUXJlpRkCQ</td>\n",
              "      <td>Pthe4qk5xh4n-ef-9bvMSg</td>\n",
              "      <td>5.0</td>\n",
              "      <td>1</td>\n",
              "      <td>0</td>\n",
              "      <td>0</td>\n",
              "      <td>Really good place with simple decor, amazing f...</td>\n",
              "      <td>2015-11-05 23:11:05</td>\n",
              "      <td>Chon Thai Food</td>\n",
              "      <td>2330 N Alma School Rd, Ste 116</td>\n",
              "      <td>Chandler</td>\n",
              "      <td>AZ</td>\n",
              "      <td>85224</td>\n",
              "      <td>33.339962</td>\n",
              "      <td>-111.859727</td>\n",
              "      <td>4.5</td>\n",
              "      <td>555.0</td>\n",
              "      <td>1.0</td>\n",
              "      <td>NaN</td>\n",
              "      <td>Restaurants, Thai</td>\n",
              "      <td>NaN</td>\n",
              "    </tr>\n",
              "    <tr>\n",
              "      <th>6</th>\n",
              "      <td>lpFIJYpsvDxyph-kPzZ6aA</td>\n",
              "      <td>dsd-KNYKMpx6ma_sRWCSkQ</td>\n",
              "      <td>FNCJpSn0tL9iqoY3JC73qw</td>\n",
              "      <td>5.0</td>\n",
              "      <td>0</td>\n",
              "      <td>0</td>\n",
              "      <td>0</td>\n",
              "      <td>Awesome office and staff, very professional an...</td>\n",
              "      <td>2017-07-18 18:31:54</td>\n",
              "      <td>Centennial Dermatology &amp; Skin Cancer</td>\n",
              "      <td>5550 Painted Mirage Rd, Ste 200</td>\n",
              "      <td>Las Vegas</td>\n",
              "      <td>NV</td>\n",
              "      <td>89149</td>\n",
              "      <td>36.261891</td>\n",
              "      <td>-115.256347</td>\n",
              "      <td>4.0</td>\n",
              "      <td>79.0</td>\n",
              "      <td>1.0</td>\n",
              "      <td>NaN</td>\n",
              "      <td>Doctors, Cosmetic Surgeons, Dermatologists, He...</td>\n",
              "      <td>NaN</td>\n",
              "    </tr>\n",
              "    <tr>\n",
              "      <th>7</th>\n",
              "      <td>JA-xnyHytKiOIHl_ztnK9Q</td>\n",
              "      <td>P6apihD4ASf1vpPxHODxAQ</td>\n",
              "      <td>e_BiI4ej1CW1F0EyVLr-FQ</td>\n",
              "      <td>5.0</td>\n",
              "      <td>0</td>\n",
              "      <td>0</td>\n",
              "      <td>0</td>\n",
              "      <td>Most delicious authentic Italian I've had in t...</td>\n",
              "      <td>2015-02-16 06:48:47</td>\n",
              "      <td>Casa Mia</td>\n",
              "      <td>11485 N 136th St</td>\n",
              "      <td>Scottsdale</td>\n",
              "      <td>AZ</td>\n",
              "      <td>85259</td>\n",
              "      <td>33.590695</td>\n",
              "      <td>-111.786547</td>\n",
              "      <td>4.5</td>\n",
              "      <td>85.0</td>\n",
              "      <td>1.0</td>\n",
              "      <td>NaN</td>\n",
              "      <td>Restaurants, Italian</td>\n",
              "      <td>NaN</td>\n",
              "    </tr>\n",
              "    <tr>\n",
              "      <th>8</th>\n",
              "      <td>z4BCgTkfNtCu4XY5Lp97ww</td>\n",
              "      <td>jOERvhmK6_lo_XGUBPws_w</td>\n",
              "      <td>Ws8V970-mQt2X9CwCuT5zw</td>\n",
              "      <td>4.0</td>\n",
              "      <td>3</td>\n",
              "      <td>0</td>\n",
              "      <td>1</td>\n",
              "      <td>I have been here twice. Very nice and laid bac...</td>\n",
              "      <td>2009-10-13 04:16:41</td>\n",
              "      <td>The Urban Tea Loft</td>\n",
              "      <td>11 W Boston St, Ste 2</td>\n",
              "      <td>Chandler</td>\n",
              "      <td>AZ</td>\n",
              "      <td>85225</td>\n",
              "      <td>33.302013</td>\n",
              "      <td>-111.841920</td>\n",
              "      <td>4.0</td>\n",
              "      <td>126.0</td>\n",
              "      <td>0.0</td>\n",
              "      <td>NaN</td>\n",
              "      <td>Home &amp; Garden, Restaurants, American (New), Sh...</td>\n",
              "      <td>NaN</td>\n",
              "    </tr>\n",
              "    <tr>\n",
              "      <th>9</th>\n",
              "      <td>TfVth7UNfgilv4J3exPB3A</td>\n",
              "      <td>s5j_CRBWDCCMDJ6r7AYqjQ</td>\n",
              "      <td>PA61Rwk3AMwOEXHevA7nkg</td>\n",
              "      <td>5.0</td>\n",
              "      <td>0</td>\n",
              "      <td>0</td>\n",
              "      <td>0</td>\n",
              "      <td>Maria is VERY good at what she does with great...</td>\n",
              "      <td>2013-12-28 21:02:55</td>\n",
              "      <td>Maria's Tailors</td>\n",
              "      <td>3655 S Decatur Blvd</td>\n",
              "      <td>Las Vegas</td>\n",
              "      <td>NV</td>\n",
              "      <td>89103</td>\n",
              "      <td>36.123384</td>\n",
              "      <td>-115.208567</td>\n",
              "      <td>5.0</td>\n",
              "      <td>3.0</td>\n",
              "      <td>0.0</td>\n",
              "      <td>NaN</td>\n",
              "      <td>Local Services, Sewing &amp; Alterations</td>\n",
              "      <td>NaN</td>\n",
              "    </tr>\n",
              "  </tbody>\n",
              "</table>\n",
              "</div>"
            ],
            "text/plain": [
              "                review_id  ... hours\n",
              "0  UmFMZ8PyXZTY2QcwzsfQYA  ...   NaN\n",
              "1  LG2ZaYiOgpr2DK_90pYjNw  ...   NaN\n",
              "2  i6g_oA9Yf9Y31qt0wibXpw  ...   NaN\n",
              "3  6TdNDKywdbjoTkizeMce8A  ...   NaN\n",
              "4  L2O_INwlrRuoX05KSjc4eg  ...   NaN\n",
              "5  ZayJ1zWyWgY9S_TRLT_y9Q  ...   NaN\n",
              "6  lpFIJYpsvDxyph-kPzZ6aA  ...   NaN\n",
              "7  JA-xnyHytKiOIHl_ztnK9Q  ...   NaN\n",
              "8  z4BCgTkfNtCu4XY5Lp97ww  ...   NaN\n",
              "9  TfVth7UNfgilv4J3exPB3A  ...   NaN\n",
              "\n",
              "[10 rows x 22 columns]"
            ]
          },
          "metadata": {
            "tags": []
          },
          "execution_count": 3
        }
      ]
    },
    {
      "cell_type": "code",
      "metadata": {
        "id": "CbpCKXT97n2r"
      },
      "source": [
        "reviews=data[['review_id','text','review_stars']]"
      ],
      "execution_count": null,
      "outputs": []
    },
    {
      "cell_type": "code",
      "metadata": {
        "colab": {
          "base_uri": "https://localhost:8080/",
          "height": 204
        },
        "id": "YuU9_useLP9s",
        "outputId": "4458d3b3-e66a-4440-95c1-a2cfc6acf54f"
      },
      "source": [
        "reviews.head()"
      ],
      "execution_count": null,
      "outputs": [
        {
          "output_type": "execute_result",
          "data": {
            "text/html": [
              "<div>\n",
              "<style scoped>\n",
              "    .dataframe tbody tr th:only-of-type {\n",
              "        vertical-align: middle;\n",
              "    }\n",
              "\n",
              "    .dataframe tbody tr th {\n",
              "        vertical-align: top;\n",
              "    }\n",
              "\n",
              "    .dataframe thead th {\n",
              "        text-align: right;\n",
              "    }\n",
              "</style>\n",
              "<table border=\"1\" class=\"dataframe\">\n",
              "  <thead>\n",
              "    <tr style=\"text-align: right;\">\n",
              "      <th></th>\n",
              "      <th>review_id</th>\n",
              "      <th>text</th>\n",
              "      <th>review_stars</th>\n",
              "    </tr>\n",
              "  </thead>\n",
              "  <tbody>\n",
              "    <tr>\n",
              "      <th>0</th>\n",
              "      <td>UmFMZ8PyXZTY2QcwzsfQYA</td>\n",
              "      <td>I am actually horrified this place is still in...</td>\n",
              "      <td>1.0</td>\n",
              "    </tr>\n",
              "    <tr>\n",
              "      <th>1</th>\n",
              "      <td>LG2ZaYiOgpr2DK_90pYjNw</td>\n",
              "      <td>I love Deagan's. I do. I really do. The atmosp...</td>\n",
              "      <td>5.0</td>\n",
              "    </tr>\n",
              "    <tr>\n",
              "      <th>2</th>\n",
              "      <td>i6g_oA9Yf9Y31qt0wibXpw</td>\n",
              "      <td>Dismal, lukewarm, defrosted-tasting \"TexMex\" g...</td>\n",
              "      <td>1.0</td>\n",
              "    </tr>\n",
              "    <tr>\n",
              "      <th>3</th>\n",
              "      <td>6TdNDKywdbjoTkizeMce8A</td>\n",
              "      <td>Oh happy day, finally have a Canes near my cas...</td>\n",
              "      <td>4.0</td>\n",
              "    </tr>\n",
              "    <tr>\n",
              "      <th>4</th>\n",
              "      <td>L2O_INwlrRuoX05KSjc4eg</td>\n",
              "      <td>This is definitely my favorite fast food sub s...</td>\n",
              "      <td>5.0</td>\n",
              "    </tr>\n",
              "  </tbody>\n",
              "</table>\n",
              "</div>"
            ],
            "text/plain": [
              "                review_id  ... review_stars\n",
              "0  UmFMZ8PyXZTY2QcwzsfQYA  ...          1.0\n",
              "1  LG2ZaYiOgpr2DK_90pYjNw  ...          5.0\n",
              "2  i6g_oA9Yf9Y31qt0wibXpw  ...          1.0\n",
              "3  6TdNDKywdbjoTkizeMce8A  ...          4.0\n",
              "4  L2O_INwlrRuoX05KSjc4eg  ...          5.0\n",
              "\n",
              "[5 rows x 3 columns]"
            ]
          },
          "metadata": {
            "tags": []
          },
          "execution_count": 5
        }
      ]
    },
    {
      "cell_type": "code",
      "metadata": {
        "id": "jSFakXko7qQn"
      },
      "source": [
        "def total_len(x):\n",
        "  return len(str(x).split())\n",
        "\n",
        "def stop_len(x):\n",
        "  stop=set(stopwords.words('english'))\n",
        "  stop_words=' '.join([i for i in str(x).lower().split() if i not in stop])\n",
        "  return len(stop_words.split())\n",
        "\n",
        "def special_len(x):\n",
        "  new=re.sub('[\\w]+','',str(x))\n",
        "  if len(new)>0:\n",
        "    return len(new)\n",
        "  else:\n",
        "    return 0\n",
        "\n",
        "def pos_tags(x):\n",
        "  specialChar=re.sub(r\"[^a-zA-Z]+\",'',str(x))\n",
        "  stop=set(stopwords.words('english'))\n",
        "  stop_words=' '.join([i for i in specialChar.lower().split() if i in stop])\n",
        "  mapping=pos_tag(word_tokenize(stop_words))\n",
        "  tags=([i[1] for i in mapping])\n",
        "  return dict(Counter(tags))\n",
        "\n",
        "  \n",
        "def lemma_len(x):\n",
        "  specialChar=re.sub(r\"[^a-zA-Z]+\",' ',str(x))\n",
        "  stop=set(stopwords.words('english'))\n",
        "  stop_words=' '.join([i for i in specialChar.lower().split() if i in stop])\n",
        "  wnl=WordNetLemmatizer()\n",
        "  para=[]\n",
        "  for word,tag in pos_tag(word_tokenize(stop_words)):\n",
        "    wntag=tag[0].lower()\n",
        "    wntag=wntag if wntag in ['a','r','n','v'] else None\n",
        "    if not wntag:\n",
        "      lemma=word\n",
        "    else:\n",
        "      lemma=wnl.lemmatize(word,wntag)\n",
        "    if lemma in stop_words.split():\n",
        "      pass\n",
        "    else:\n",
        "      para.append(lemma)\n",
        "\n",
        "  return len(para)\n",
        "\n",
        "def pos_list(df,col):\n",
        "  final=[]\n",
        "  for i in range(0, df[col].shape[0]):\n",
        "    for x in list(df[col][i].keys()):\n",
        "      if x not in final:\n",
        "        final.append(x)\n",
        "\n",
        "  for i in final:\n",
        "    def dummy(x):\n",
        "      if i in list(x.keys()):\n",
        "        return x[i]\n",
        "      else:\n",
        "        return 0\n",
        "    df[i]=df['pos_lis'].apply(dummy)\n",
        "\n",
        "  return df\n",
        "\n",
        "\n",
        "def cleansing(x):\n",
        "  x=str(x)\n",
        "  quoteRemoval=x.replace('\"','')\n",
        "  spaceRemoval=re.sub(\"\\s\\s+\",\" \",quoteRemoval)\n",
        "  stringRemoval=spaceRemoval.strip()\n",
        "  urlRemove=re.sub(r'http\\S+','',stringRemoval)\n",
        "  specialChar=re.sub(r\"[^a-zA-Z]+\",' ',urlRemove)\n",
        "  return specialChar\n",
        "\n",
        "\n",
        "def get_polarity(x):\n",
        "  try:\n",
        "    blob=TextBlob(x)\n",
        "    pol=blob.sentiment.polarity\n",
        "  except:\n",
        "    pol=0.0\n",
        "\n",
        "  return pol\n",
        "    \n",
        "def get_subjectivity(x):\n",
        "  try:\n",
        "    blob=TextBlob(x)\n",
        "    subj=blob.sentiment.subjectivity\n",
        "  except:\n",
        "    subj=0.0\n",
        "\n",
        "  return subj"
      ],
      "execution_count": null,
      "outputs": []
    },
    {
      "cell_type": "code",
      "metadata": {
        "colab": {
          "base_uri": "https://localhost:8080/"
        },
        "id": "qYnXB0vN7yIM",
        "outputId": "807eb42a-a05b-4e53-cc49-b326a5c19d93"
      },
      "source": [
        "reviews['clean_text']=reviews['text'].apply(cleansing)\n",
        "reviews['total_len']=reviews['clean_text'].apply(total_len)\n",
        "reviews['stop_len']=reviews['clean_text'].apply(stop_len)\n",
        "reviews['special_len']=reviews['clean_text'].apply(special_len)\n",
        "reviews['lemma_len']=reviews['clean_text'].apply(lemma_len)\n",
        "reviews['polarity']=reviews['clean_text'].apply(get_polarity)\n",
        "reviews['subjectivity']=reviews['clean_text'].apply(get_subjectivity)\n",
        "\n",
        "reviews['word_count']=reviews['clean_text'].apply(lambda x : len(str(x).split()))\n",
        "reviews['word_density']=reviews['total_len']/(reviews['word_count']+1)\n",
        "reviews['unique_words']=reviews['clean_text'].apply(lambda x : len(set(str(x).split())))\n",
        "reviews['mean_word_len']=reviews['clean_text'].apply(lambda x : np.mean([len(i) for i in str(x).split()]))"
      ],
      "execution_count": null,
      "outputs": [
        {
          "output_type": "stream",
          "text": [
            "/usr/local/lib/python3.7/dist-packages/ipykernel_launcher.py:1: SettingWithCopyWarning: \n",
            "A value is trying to be set on a copy of a slice from a DataFrame.\n",
            "Try using .loc[row_indexer,col_indexer] = value instead\n",
            "\n",
            "See the caveats in the documentation: https://pandas.pydata.org/pandas-docs/stable/user_guide/indexing.html#returning-a-view-versus-a-copy\n",
            "  \"\"\"Entry point for launching an IPython kernel.\n",
            "/usr/local/lib/python3.7/dist-packages/ipykernel_launcher.py:2: SettingWithCopyWarning: \n",
            "A value is trying to be set on a copy of a slice from a DataFrame.\n",
            "Try using .loc[row_indexer,col_indexer] = value instead\n",
            "\n",
            "See the caveats in the documentation: https://pandas.pydata.org/pandas-docs/stable/user_guide/indexing.html#returning-a-view-versus-a-copy\n",
            "  \n",
            "/usr/local/lib/python3.7/dist-packages/ipykernel_launcher.py:3: SettingWithCopyWarning: \n",
            "A value is trying to be set on a copy of a slice from a DataFrame.\n",
            "Try using .loc[row_indexer,col_indexer] = value instead\n",
            "\n",
            "See the caveats in the documentation: https://pandas.pydata.org/pandas-docs/stable/user_guide/indexing.html#returning-a-view-versus-a-copy\n",
            "  This is separate from the ipykernel package so we can avoid doing imports until\n",
            "/usr/local/lib/python3.7/dist-packages/ipykernel_launcher.py:4: SettingWithCopyWarning: \n",
            "A value is trying to be set on a copy of a slice from a DataFrame.\n",
            "Try using .loc[row_indexer,col_indexer] = value instead\n",
            "\n",
            "See the caveats in the documentation: https://pandas.pydata.org/pandas-docs/stable/user_guide/indexing.html#returning-a-view-versus-a-copy\n",
            "  after removing the cwd from sys.path.\n",
            "/usr/local/lib/python3.7/dist-packages/ipykernel_launcher.py:5: SettingWithCopyWarning: \n",
            "A value is trying to be set on a copy of a slice from a DataFrame.\n",
            "Try using .loc[row_indexer,col_indexer] = value instead\n",
            "\n",
            "See the caveats in the documentation: https://pandas.pydata.org/pandas-docs/stable/user_guide/indexing.html#returning-a-view-versus-a-copy\n",
            "  \"\"\"\n",
            "/usr/local/lib/python3.7/dist-packages/ipykernel_launcher.py:6: SettingWithCopyWarning: \n",
            "A value is trying to be set on a copy of a slice from a DataFrame.\n",
            "Try using .loc[row_indexer,col_indexer] = value instead\n",
            "\n",
            "See the caveats in the documentation: https://pandas.pydata.org/pandas-docs/stable/user_guide/indexing.html#returning-a-view-versus-a-copy\n",
            "  \n",
            "/usr/local/lib/python3.7/dist-packages/ipykernel_launcher.py:7: SettingWithCopyWarning: \n",
            "A value is trying to be set on a copy of a slice from a DataFrame.\n",
            "Try using .loc[row_indexer,col_indexer] = value instead\n",
            "\n",
            "See the caveats in the documentation: https://pandas.pydata.org/pandas-docs/stable/user_guide/indexing.html#returning-a-view-versus-a-copy\n",
            "  import sys\n",
            "/usr/local/lib/python3.7/dist-packages/ipykernel_launcher.py:9: SettingWithCopyWarning: \n",
            "A value is trying to be set on a copy of a slice from a DataFrame.\n",
            "Try using .loc[row_indexer,col_indexer] = value instead\n",
            "\n",
            "See the caveats in the documentation: https://pandas.pydata.org/pandas-docs/stable/user_guide/indexing.html#returning-a-view-versus-a-copy\n",
            "  if __name__ == '__main__':\n",
            "/usr/local/lib/python3.7/dist-packages/ipykernel_launcher.py:10: SettingWithCopyWarning: \n",
            "A value is trying to be set on a copy of a slice from a DataFrame.\n",
            "Try using .loc[row_indexer,col_indexer] = value instead\n",
            "\n",
            "See the caveats in the documentation: https://pandas.pydata.org/pandas-docs/stable/user_guide/indexing.html#returning-a-view-versus-a-copy\n",
            "  # Remove the CWD from sys.path while we load stuff.\n",
            "/usr/local/lib/python3.7/dist-packages/ipykernel_launcher.py:11: SettingWithCopyWarning: \n",
            "A value is trying to be set on a copy of a slice from a DataFrame.\n",
            "Try using .loc[row_indexer,col_indexer] = value instead\n",
            "\n",
            "See the caveats in the documentation: https://pandas.pydata.org/pandas-docs/stable/user_guide/indexing.html#returning-a-view-versus-a-copy\n",
            "  # This is added back by InteractiveShellApp.init_path()\n",
            "/usr/local/lib/python3.7/dist-packages/numpy/core/fromnumeric.py:3373: RuntimeWarning: Mean of empty slice.\n",
            "  out=out, **kwargs)\n",
            "/usr/local/lib/python3.7/dist-packages/ipykernel_launcher.py:12: SettingWithCopyWarning: \n",
            "A value is trying to be set on a copy of a slice from a DataFrame.\n",
            "Try using .loc[row_indexer,col_indexer] = value instead\n",
            "\n",
            "See the caveats in the documentation: https://pandas.pydata.org/pandas-docs/stable/user_guide/indexing.html#returning-a-view-versus-a-copy\n",
            "  if sys.path[0] == '':\n"
          ],
          "name": "stderr"
        }
      ]
    },
    {
      "cell_type": "code",
      "metadata": {
        "colab": {
          "base_uri": "https://localhost:8080/",
          "height": 649
        },
        "id": "uC2B9OiT7-q3",
        "outputId": "2c708683-f28b-4493-b027-6d3b7c9a3c3d"
      },
      "source": [
        "reviews.head()"
      ],
      "execution_count": null,
      "outputs": [
        {
          "output_type": "execute_result",
          "data": {
            "text/html": [
              "<div>\n",
              "<style scoped>\n",
              "    .dataframe tbody tr th:only-of-type {\n",
              "        vertical-align: middle;\n",
              "    }\n",
              "\n",
              "    .dataframe tbody tr th {\n",
              "        vertical-align: top;\n",
              "    }\n",
              "\n",
              "    .dataframe thead th {\n",
              "        text-align: right;\n",
              "    }\n",
              "</style>\n",
              "<table border=\"1\" class=\"dataframe\">\n",
              "  <thead>\n",
              "    <tr style=\"text-align: right;\">\n",
              "      <th></th>\n",
              "      <th>review_id</th>\n",
              "      <th>text</th>\n",
              "      <th>review_stars</th>\n",
              "      <th>clean_text</th>\n",
              "      <th>total_len</th>\n",
              "      <th>stop_len</th>\n",
              "      <th>special_len</th>\n",
              "      <th>lemma_len</th>\n",
              "      <th>polarity</th>\n",
              "      <th>subjectivity</th>\n",
              "      <th>word_count</th>\n",
              "      <th>word_density</th>\n",
              "      <th>unique_words</th>\n",
              "      <th>mean_word_len</th>\n",
              "    </tr>\n",
              "  </thead>\n",
              "  <tbody>\n",
              "    <tr>\n",
              "      <th>0</th>\n",
              "      <td>UmFMZ8PyXZTY2QcwzsfQYA</td>\n",
              "      <td>I am actually horrified this place is still in...</td>\n",
              "      <td>1.0</td>\n",
              "      <td>I am actually horrified this place is still in...</td>\n",
              "      <td>276</td>\n",
              "      <td>123</td>\n",
              "      <td>276</td>\n",
              "      <td>10</td>\n",
              "      <td>-0.026084</td>\n",
              "      <td>0.331670</td>\n",
              "      <td>276</td>\n",
              "      <td>0.996390</td>\n",
              "      <td>176</td>\n",
              "      <td>3.916667</td>\n",
              "    </tr>\n",
              "    <tr>\n",
              "      <th>1</th>\n",
              "      <td>LG2ZaYiOgpr2DK_90pYjNw</td>\n",
              "      <td>I love Deagan's. I do. I really do. The atmosp...</td>\n",
              "      <td>5.0</td>\n",
              "      <td>I love Deagan s I do I really do The atmospher...</td>\n",
              "      <td>87</td>\n",
              "      <td>38</td>\n",
              "      <td>87</td>\n",
              "      <td>1</td>\n",
              "      <td>0.245000</td>\n",
              "      <td>0.600000</td>\n",
              "      <td>87</td>\n",
              "      <td>0.988636</td>\n",
              "      <td>61</td>\n",
              "      <td>3.816092</td>\n",
              "    </tr>\n",
              "    <tr>\n",
              "      <th>2</th>\n",
              "      <td>i6g_oA9Yf9Y31qt0wibXpw</td>\n",
              "      <td>Dismal, lukewarm, defrosted-tasting \"TexMex\" g...</td>\n",
              "      <td>1.0</td>\n",
              "      <td>Dismal lukewarm defrosted tasting TexMex glop ...</td>\n",
              "      <td>63</td>\n",
              "      <td>41</td>\n",
              "      <td>63</td>\n",
              "      <td>0</td>\n",
              "      <td>-0.015079</td>\n",
              "      <td>0.336508</td>\n",
              "      <td>63</td>\n",
              "      <td>0.984375</td>\n",
              "      <td>58</td>\n",
              "      <td>5.015873</td>\n",
              "    </tr>\n",
              "    <tr>\n",
              "      <th>3</th>\n",
              "      <td>6TdNDKywdbjoTkizeMce8A</td>\n",
              "      <td>Oh happy day, finally have a Canes near my cas...</td>\n",
              "      <td>4.0</td>\n",
              "      <td>Oh happy day finally have a Canes near my casa...</td>\n",
              "      <td>175</td>\n",
              "      <td>82</td>\n",
              "      <td>175</td>\n",
              "      <td>7</td>\n",
              "      <td>0.099577</td>\n",
              "      <td>0.610024</td>\n",
              "      <td>175</td>\n",
              "      <td>0.994318</td>\n",
              "      <td>120</td>\n",
              "      <td>3.742857</td>\n",
              "    </tr>\n",
              "    <tr>\n",
              "      <th>4</th>\n",
              "      <td>L2O_INwlrRuoX05KSjc4eg</td>\n",
              "      <td>This is definitely my favorite fast food sub s...</td>\n",
              "      <td>5.0</td>\n",
              "      <td>This is definitely my favorite fast food sub s...</td>\n",
              "      <td>95</td>\n",
              "      <td>50</td>\n",
              "      <td>95</td>\n",
              "      <td>0</td>\n",
              "      <td>0.250000</td>\n",
              "      <td>0.587500</td>\n",
              "      <td>95</td>\n",
              "      <td>0.989583</td>\n",
              "      <td>78</td>\n",
              "      <td>4.336842</td>\n",
              "    </tr>\n",
              "  </tbody>\n",
              "</table>\n",
              "</div>"
            ],
            "text/plain": [
              "                review_id  ... mean_word_len\n",
              "0  UmFMZ8PyXZTY2QcwzsfQYA  ...      3.916667\n",
              "1  LG2ZaYiOgpr2DK_90pYjNw  ...      3.816092\n",
              "2  i6g_oA9Yf9Y31qt0wibXpw  ...      5.015873\n",
              "3  6TdNDKywdbjoTkizeMce8A  ...      3.742857\n",
              "4  L2O_INwlrRuoX05KSjc4eg  ...      4.336842\n",
              "\n",
              "[5 rows x 14 columns]"
            ]
          },
          "metadata": {
            "tags": []
          },
          "execution_count": 8
        }
      ]
    },
    {
      "cell_type": "code",
      "metadata": {
        "colab": {
          "base_uri": "https://localhost:8080/"
        },
        "id": "2Jl6AZwOvFX4",
        "outputId": "6949b015-75f7-470b-a38a-7ba562c12101"
      },
      "source": [
        "reviews['review_stars'].value_counts()"
      ],
      "execution_count": null,
      "outputs": [
        {
          "output_type": "execute_result",
          "data": {
            "text/plain": [
              "5.0    13178\n",
              "4.0     6860\n",
              "1.0     4195\n",
              "3.0     3345\n",
              "2.0     2421\n",
              "Name: review_stars, dtype: int64"
            ]
          },
          "metadata": {
            "tags": []
          },
          "execution_count": 9
        }
      ]
    },
    {
      "cell_type": "code",
      "metadata": {
        "colab": {
          "base_uri": "https://localhost:8080/",
          "height": 300
        },
        "id": "TYUTTkdq8o1t",
        "outputId": "c5131c34-73ea-412a-a275-feeeee5dfc6e"
      },
      "source": [
        "import seaborn as sns\n",
        "temp1=reviews.groupby('review_stars')['total_len'].agg('mean').reset_index()\n",
        "temp1.columns=['review_stars','mean_len']\n",
        "sns.barplot(x='review_stars', y='mean_len', data=temp1)"
      ],
      "execution_count": null,
      "outputs": [
        {
          "output_type": "execute_result",
          "data": {
            "text/plain": [
              "<matplotlib.axes._subplots.AxesSubplot at 0x7ff489a5a190>"
            ]
          },
          "metadata": {
            "tags": []
          },
          "execution_count": 10
        },
        {
          "output_type": "display_data",
          "data": {
            "image/png": "[encoded data removed]",
            "text/plain": [
              "<Figure size 432x288 with 1 Axes>"
            ]
          },
          "metadata": {
            "tags": [],
            "needs_background": "light"
          }
        }
      ]
    },
    {
      "cell_type": "code",
      "metadata": {
        "colab": {
          "base_uri": "https://localhost:8080/"
        },
        "id": "CPP3p4CovmZM",
        "outputId": "75bc30de-04a0-449f-a0a3-9a5b2c0fd169"
      },
      "source": [
        "print(temp1)"
      ],
      "execution_count": null,
      "outputs": [
        {
          "output_type": "stream",
          "text": [
            "   review_stars    mean_len\n",
            "0           1.0  133.932539\n",
            "1           2.0  133.481619\n",
            "2           3.0  126.677728\n",
            "3           4.0  110.050875\n",
            "4           5.0   86.195401\n"
          ],
          "name": "stdout"
        }
      ]
    },
    {
      "cell_type": "markdown",
      "metadata": {
        "id": "YyV2Nt8g97CR"
      },
      "source": [
        "**Best Review has less mean length**"
      ]
    },
    {
      "cell_type": "code",
      "metadata": {
        "colab": {
          "base_uri": "https://localhost:8080/",
          "height": 297
        },
        "id": "Hf8S6CXy9BWM",
        "outputId": "9ba536d3-35d6-4628-f0aa-f0ca5ce775bf"
      },
      "source": [
        "temp2=reviews.groupby('review_stars')['stop_len'].agg('mean').reset_index()\n",
        "temp2.columns=['review_stars','mean_stop_len']\n",
        "sns.barplot(x='review_stars', y='mean_stop_len', data=temp2)"
      ],
      "execution_count": null,
      "outputs": [
        {
          "output_type": "execute_result",
          "data": {
            "text/plain": [
              "<matplotlib.axes._subplots.AxesSubplot at 0x7ff489aac590>"
            ]
          },
          "metadata": {
            "tags": []
          },
          "execution_count": 12
        },
        {
          "output_type": "display_data",
          "data": {
            "image/png": "[encoded data removed]",
            "text/plain": [
              "<Figure size 432x288 with 1 Axes>"
            ]
          },
          "metadata": {
            "tags": [],
            "needs_background": "light"
          }
        }
      ]
    },
    {
      "cell_type": "code",
      "metadata": {
        "colab": {
          "base_uri": "https://localhost:8080/"
        },
        "id": "AOKhggVSuAFL",
        "outputId": "31484fb1-ce8c-42d4-bb28-6506662d7f6e"
      },
      "source": [
        "print(temp2)"
      ],
      "execution_count": null,
      "outputs": [
        {
          "output_type": "stream",
          "text": [
            "   review_stars  mean_stop_len\n",
            "0           1.0      63.065077\n",
            "1           2.0      63.679058\n",
            "2           3.0      61.672646\n",
            "3           4.0      55.118805\n",
            "4           5.0      43.291471\n"
          ],
          "name": "stdout"
        }
      ]
    },
    {
      "cell_type": "markdown",
      "metadata": {
        "id": "I0XUmxpD-MK0"
      },
      "source": [
        "**Best review has less stop words**"
      ]
    },
    {
      "cell_type": "code",
      "metadata": {
        "colab": {
          "base_uri": "https://localhost:8080/",
          "height": 300
        },
        "id": "3Oj1iVS-9kmQ",
        "outputId": "91d31eb0-9764-45f8-dcb3-d7b4c7529839"
      },
      "source": [
        "temp3=reviews.groupby('review_stars')['word_count'].agg('mean').reset_index()\n",
        "temp3.columns=['review_stars','mean_word_count']\n",
        "sns.barplot(x='review_stars', y='mean_word_count', data=temp3)"
      ],
      "execution_count": null,
      "outputs": [
        {
          "output_type": "execute_result",
          "data": {
            "text/plain": [
              "<matplotlib.axes._subplots.AxesSubplot at 0x7ff489afb9d0>"
            ]
          },
          "metadata": {
            "tags": []
          },
          "execution_count": 14
        },
        {
          "output_type": "display_data",
          "data": {
            "image/png": "[encoded data removed]",
            "text/plain": [
              "<Figure size 432x288 with 1 Axes>"
            ]
          },
          "metadata": {
            "tags": [],
            "needs_background": "light"
          }
        }
      ]
    },
    {
      "cell_type": "code",
      "metadata": {
        "colab": {
          "base_uri": "https://localhost:8080/"
        },
        "id": "LI5_fsq6uMjQ",
        "outputId": "fd561496-d24a-456d-8e77-0e53708d1b1b"
      },
      "source": [
        "print(temp3)"
      ],
      "execution_count": null,
      "outputs": [
        {
          "output_type": "stream",
          "text": [
            "   review_stars  mean_word_count\n",
            "0           1.0       133.932539\n",
            "1           2.0       133.481619\n",
            "2           3.0       126.677728\n",
            "3           4.0       110.050875\n",
            "4           5.0        86.195401\n"
          ],
          "name": "stdout"
        }
      ]
    },
    {
      "cell_type": "markdown",
      "metadata": {
        "id": "9JQ4M82r-oe0"
      },
      "source": [
        "**Best Review has less words**"
      ]
    },
    {
      "cell_type": "code",
      "metadata": {
        "id": "Zs64TPWmRLo1"
      },
      "source": [
        "reviews.to_csv('final_feature_reviews.csv', index=False)"
      ],
      "execution_count": null,
      "outputs": []
    },
    {
      "cell_type": "code",
      "metadata": {
        "id": "0ihWqKiBR7Ju"
      },
      "source": [
        ""
      ],
      "execution_count": null,
      "outputs": []
    }
  ]
}