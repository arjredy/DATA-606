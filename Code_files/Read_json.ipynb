{
  "nbformat": 4,
  "nbformat_minor": 0,
  "metadata": {
    "colab": {
      "name": "Read_json.ipynb",
      "provenance": [],
      "collapsed_sections": []
    },
    "kernelspec": {
      "display_name": "Python 3",
      "name": "python3"
    }
  },
  "cells": [
    {
      "cell_type": "code",
      "metadata": {
        "id": "Y5uztXYdqW5L"
      },
      "source": [
        "import pandas as pd\n",
        "from tqdm import tqdm\n",
        "tqdm.pandas()"
      ],
      "execution_count": null,
      "outputs": []
    },
    {
      "cell_type": "code",
      "metadata": {
        "id": "WX1q8bdiqcCQ"
      },
      "source": [
        "data=pd.read_excel(\"drive/MyDrive/DataScience_Datasets/Arjun/Review.xlsx\")"
      ],
      "execution_count": null,
      "outputs": []
    },
    {
      "cell_type": "code",
      "metadata": {
        "colab": {
          "base_uri": "https://localhost:8080/"
        },
        "id": "xlAiCQyUqyID",
        "outputId": "4aa88be5-78af-41fa-e0ee-c5ae3ba87c95"
      },
      "source": [
        "data.shape"
      ],
      "execution_count": null,
      "outputs": [
        {
          "output_type": "execute_result",
          "data": {
            "text/plain": [
              "(29999, 1)"
            ]
          },
          "metadata": {
            "tags": []
          },
          "execution_count": 4
        }
      ]
    },
    {
      "cell_type": "code",
      "metadata": {
        "id": "Jsp0gXLTq4Kq"
      },
      "source": [
        "bus=pd.read_excel(\"drive/MyDrive/DataScience_Datasets/Arjun/Business.xlsx\")"
      ],
      "execution_count": null,
      "outputs": []
    },
    {
      "cell_type": "code",
      "metadata": {
        "colab": {
          "base_uri": "https://localhost:8080/"
        },
        "id": "O4qNnfd3ropf",
        "outputId": "0050f93b-eba6-4e18-fb81-f7ce943e8317"
      },
      "source": [
        "bus.shape"
      ],
      "execution_count": null,
      "outputs": [
        {
          "output_type": "execute_result",
          "data": {
            "text/plain": [
              "(29999, 1)"
            ]
          },
          "metadata": {
            "tags": []
          },
          "execution_count": 6
        }
      ]
    },
    {
      "cell_type": "code",
      "metadata": {
        "colab": {
          "base_uri": "https://localhost:8080/",
          "height": 330
        },
        "id": "xzFafk3Grpbz",
        "outputId": "1510f118-eb21-46c1-a854-8b85f9446b86"
      },
      "source": [
        "bus.head()"
      ],
      "execution_count": null,
      "outputs": [
        {
          "output_type": "execute_result",
          "data": {
            "text/html": [
              "<div>\n",
              "<style scoped>\n",
              "    .dataframe tbody tr th:only-of-type {\n",
              "        vertical-align: middle;\n",
              "    }\n",
              "\n",
              "    .dataframe tbody tr th {\n",
              "        vertical-align: top;\n",
              "    }\n",
              "\n",
              "    .dataframe thead th {\n",
              "        text-align: right;\n",
              "    }\n",
              "</style>\n",
              "<table border=\"1\" class=\"dataframe\">\n",
              "  <thead>\n",
              "    <tr style=\"text-align: right;\">\n",
              "      <th></th>\n",
              "      <th>{\"business_id\":\"f9NumwFMBDn751xgFiRbNA\",\"name\":\"The Range At Lake Norman\",\"address\":\"10913 Bailey Rd\",\"city\":\"Cornelius\",\"state\":\"NC\",\"postal_code\":\"28031\",\"latitude\":35.4627242,\"longitude\":-80.8526119,\"stars\":3.5,\"review_count\":36,\"is_open\":1,\"attributes\":{\"BusinessAcceptsCreditCards\":\"True\",\"BikeParking\":\"True\",\"GoodForKids\":\"False\",\"BusinessParking\":\"{'garage': False, 'street': False, 'validated': False, 'lot': True, 'valet': False}\",\"ByAppointmentOnly\":\"False\",\"RestaurantsPriceRange2\":\"3\"},\"categories\":\"Active Life, Gun\\/Rifle Ranges, Guns &amp; Ammo, Shopping\",\"hours\":{\"Monday\":\"10:0-18:0\",\"Tuesday\":\"11:0-20:0\",\"Wednesday\":\"10:0-18:0\",\"Thursday\":\"11:0-20:0\",\"Friday\":\"11:0-20:0\",\"Saturday\":\"11:0-20:0\",\"Sunday\":\"13:0-18:0\"}}</th>\n",
              "    </tr>\n",
              "  </thead>\n",
              "  <tbody>\n",
              "    <tr>\n",
              "      <th>0</th>\n",
              "      <td>{\"business_id\":\"Yzvjg0SayhoZgCljUJRF9Q\",\"name\"...</td>\n",
              "    </tr>\n",
              "    <tr>\n",
              "      <th>1</th>\n",
              "      <td>{\"business_id\":\"XNoUzKckATkOD1hP6vghZg\",\"name\"...</td>\n",
              "    </tr>\n",
              "    <tr>\n",
              "      <th>2</th>\n",
              "      <td>{\"business_id\":\"6OAZjbxqM5ol29BuHsil3w\",\"name\"...</td>\n",
              "    </tr>\n",
              "    <tr>\n",
              "      <th>3</th>\n",
              "      <td>{\"business_id\":\"51M2Kk903DFYI6gnB5I6SQ\",\"name\"...</td>\n",
              "    </tr>\n",
              "    <tr>\n",
              "      <th>4</th>\n",
              "      <td>{\"business_id\":\"cKyLV5oWZJ2NudWgqs8VZw\",\"name\"...</td>\n",
              "    </tr>\n",
              "  </tbody>\n",
              "</table>\n",
              "</div>"
            ],
            "text/plain": [
              "  {\"business_id\":\"f9NumwFMBDn751xgFiRbNA\",\"name\":\"The Range At Lake Norman\",\"address\":\"10913 Bailey Rd\",\"city\":\"Cornelius\",\"state\":\"NC\",\"postal_code\":\"28031\",\"latitude\":35.4627242,\"longitude\":-80.8526119,\"stars\":3.5,\"review_count\":36,\"is_open\":1,\"attributes\":{\"BusinessAcceptsCreditCards\":\"True\",\"BikeParking\":\"True\",\"GoodForKids\":\"False\",\"BusinessParking\":\"{'garage': False, 'street': False, 'validated': False, 'lot': True, 'valet': False}\",\"ByAppointmentOnly\":\"False\",\"RestaurantsPriceRange2\":\"3\"},\"categories\":\"Active Life, Gun\\/Rifle Ranges, Guns & Ammo, Shopping\",\"hours\":{\"Monday\":\"10:0-18:0\",\"Tuesday\":\"11:0-20:0\",\"Wednesday\":\"10:0-18:0\",\"Thursday\":\"11:0-20:0\",\"Friday\":\"11:0-20:0\",\"Saturday\":\"11:0-20:0\",\"Sunday\":\"13:0-18:0\"}}\n",
              "0  {\"business_id\":\"Yzvjg0SayhoZgCljUJRF9Q\",\"name\"...                                                                                                                                                                                                                                                                                                                                                                                                                                                                                                                                                                                                                                                                                                           \n",
              "1  {\"business_id\":\"XNoUzKckATkOD1hP6vghZg\",\"name\"...                                                                                                                                                                                                                                                                                                                                                                                                                                                                                                                                                                                                                                                                                                           \n",
              "2  {\"business_id\":\"6OAZjbxqM5ol29BuHsil3w\",\"name\"...                                                                                                                                                                                                                                                                                                                                                                                                                                                                                                                                                                                                                                                                                                           \n",
              "3  {\"business_id\":\"51M2Kk903DFYI6gnB5I6SQ\",\"name\"...                                                                                                                                                                                                                                                                                                                                                                                                                                                                                                                                                                                                                                                                                                           \n",
              "4  {\"business_id\":\"cKyLV5oWZJ2NudWgqs8VZw\",\"name\"...                                                                                                                                                                                                                                                                                                                                                                                                                                                                                                                                                                                                                                                                                                           "
            ]
          },
          "metadata": {
            "tags": []
          },
          "execution_count": 7
        }
      ]
    },
    {
      "cell_type": "code",
      "metadata": {
        "colab": {
          "base_uri": "https://localhost:8080/"
        },
        "id": "2MbZ0i6Wrqod",
        "outputId": "e95c22e4-12de-4e76-eaf1-080cbfbb3761"
      },
      "source": [
        "final_reviews=pd.DataFrame()\n",
        "for i in tqdm(range(0,data.shape[0])):\n",
        "  temp=pd.DataFrame(json.loads(data[data.index==i].iloc[0][0]),index=[0])\n",
        "  final_reviews=final_reviews.append(temp)"
      ],
      "execution_count": null,
      "outputs": [
        {
          "output_type": "stream",
          "text": [
            "100%|██████████| 29999/29999 [05:15<00:00, 94.99it/s]\n"
          ],
          "name": "stderr"
        }
      ]
    },
    {
      "cell_type": "code",
      "metadata": {
        "colab": {
          "base_uri": "https://localhost:8080/",
          "height": 660
        },
        "id": "YZMFYvUzsnYi",
        "outputId": "8dd4b1be-e06d-459c-a366-f7cde570ec9b"
      },
      "source": [
        "final_reviews.head()"
      ],
      "execution_count": null,
      "outputs": [
        {
          "output_type": "execute_result",
          "data": {
            "text/html": [
              "<div>\n",
              "<style scoped>\n",
              "    .dataframe tbody tr th:only-of-type {\n",
              "        vertical-align: middle;\n",
              "    }\n",
              "\n",
              "    .dataframe tbody tr th {\n",
              "        vertical-align: top;\n",
              "    }\n",
              "\n",
              "    .dataframe thead th {\n",
              "        text-align: right;\n",
              "    }\n",
              "</style>\n",
              "<table border=\"1\" class=\"dataframe\">\n",
              "  <thead>\n",
              "    <tr style=\"text-align: right;\">\n",
              "      <th></th>\n",
              "      <th>review_id</th>\n",
              "      <th>user_id</th>\n",
              "      <th>business_id</th>\n",
              "      <th>stars</th>\n",
              "      <th>useful</th>\n",
              "      <th>funny</th>\n",
              "      <th>cool</th>\n",
              "      <th>text</th>\n",
              "      <th>date</th>\n",
              "    </tr>\n",
              "  </thead>\n",
              "  <tbody>\n",
              "    <tr>\n",
              "      <th>0</th>\n",
              "      <td>UmFMZ8PyXZTY2QcwzsfQYA</td>\n",
              "      <td>nIJD_7ZXHq-FX8byPMOkMQ</td>\n",
              "      <td>lbrU8StCq3yDfr-QMnGrmQ</td>\n",
              "      <td>1.0</td>\n",
              "      <td>1</td>\n",
              "      <td>1</td>\n",
              "      <td>0</td>\n",
              "      <td>I am actually horrified this place is still in...</td>\n",
              "      <td>2013-12-07 03:16:52</td>\n",
              "    </tr>\n",
              "    <tr>\n",
              "      <th>0</th>\n",
              "      <td>LG2ZaYiOgpr2DK_90pYjNw</td>\n",
              "      <td>V34qejxNsCbcgD8C0HVk-Q</td>\n",
              "      <td>HQl28KMwrEKHqhFrrDqVNQ</td>\n",
              "      <td>5.0</td>\n",
              "      <td>1</td>\n",
              "      <td>0</td>\n",
              "      <td>0</td>\n",
              "      <td>I love Deagan's. I do. I really do. The atmosp...</td>\n",
              "      <td>2015-12-05 03:18:11</td>\n",
              "    </tr>\n",
              "    <tr>\n",
              "      <th>0</th>\n",
              "      <td>i6g_oA9Yf9Y31qt0wibXpw</td>\n",
              "      <td>ofKDkJKXSKZXu5xJNGiiBQ</td>\n",
              "      <td>5JxlZaqCnk1MnbgRirs40Q</td>\n",
              "      <td>1.0</td>\n",
              "      <td>0</td>\n",
              "      <td>0</td>\n",
              "      <td>0</td>\n",
              "      <td>Dismal, lukewarm, defrosted-tasting \"TexMex\" g...</td>\n",
              "      <td>2011-05-27 05:30:52</td>\n",
              "    </tr>\n",
              "    <tr>\n",
              "      <th>0</th>\n",
              "      <td>6TdNDKywdbjoTkizeMce8A</td>\n",
              "      <td>UgMW8bLE0QMJDCkQ1Ax5Mg</td>\n",
              "      <td>IS4cv902ykd8wj1TR0N3-A</td>\n",
              "      <td>4.0</td>\n",
              "      <td>0</td>\n",
              "      <td>0</td>\n",
              "      <td>0</td>\n",
              "      <td>Oh happy day, finally have a Canes near my cas...</td>\n",
              "      <td>2017-01-14 21:56:57</td>\n",
              "    </tr>\n",
              "    <tr>\n",
              "      <th>0</th>\n",
              "      <td>L2O_INwlrRuoX05KSjc4eg</td>\n",
              "      <td>5vD2kmE25YBrbayKhykNxQ</td>\n",
              "      <td>nlxHRv1zXGT0c0K51q3jDg</td>\n",
              "      <td>5.0</td>\n",
              "      <td>2</td>\n",
              "      <td>0</td>\n",
              "      <td>0</td>\n",
              "      <td>This is definitely my favorite fast food sub s...</td>\n",
              "      <td>2013-05-07 07:25:25</td>\n",
              "    </tr>\n",
              "  </tbody>\n",
              "</table>\n",
              "</div>"
            ],
            "text/plain": [
              "                review_id  ...                 date\n",
              "0  UmFMZ8PyXZTY2QcwzsfQYA  ...  2013-12-07 03:16:52\n",
              "0  LG2ZaYiOgpr2DK_90pYjNw  ...  2015-12-05 03:18:11\n",
              "0  i6g_oA9Yf9Y31qt0wibXpw  ...  2011-05-27 05:30:52\n",
              "0  6TdNDKywdbjoTkizeMce8A  ...  2017-01-14 21:56:57\n",
              "0  L2O_INwlrRuoX05KSjc4eg  ...  2013-05-07 07:25:25\n",
              "\n",
              "[5 rows x 9 columns]"
            ]
          },
          "metadata": {
            "tags": []
          },
          "execution_count": 38
        }
      ]
    },
    {
      "cell_type": "code",
      "metadata": {
        "id": "dhfQcHE8x5zZ"
      },
      "source": [
        "final_reviews.to_csv('reviews.csv', index=False)"
      ],
      "execution_count": null,
      "outputs": []
    },
    {
      "cell_type": "code",
      "metadata": {
        "colab": {
          "background_save": true,
          "base_uri": "https://localhost:8080/"
        },
        "id": "N1V_EZU0x5ta",
        "outputId": "09510216-e819-4105-cefb-90ba4081430a"
      },
      "source": [
        "final_business=pd.DataFrame()\n",
        "for i in tqdm(range(0,bus.shape[0])):\n",
        "  temp=pd.DataFrame(json.loads(bus[bus.index==i].iloc[0][0]),index=[0])\n",
        "  final_business=final_business.append(temp)"
      ],
      "execution_count": null,
      "outputs": [
        {
          "output_type": "stream",
          "text": [
            "100%|██████████| 29999/29999 [08:18<00:00, 60.18it/s]\n"
          ],
          "name": "stderr"
        }
      ]
    },
    {
      "cell_type": "code",
      "metadata": {
        "id": "pTtGpE9TyB3n",
        "colab": {
          "base_uri": "https://localhost:8080/",
          "height": 574
        },
        "outputId": "5b532101-af73-4cd6-aab2-428113b0e95b"
      },
      "source": [
        "final_business.head()"
      ],
      "execution_count": null,
      "outputs": [
        {
          "output_type": "execute_result",
          "data": {
            "text/html": [
              "<div>\n",
              "<style scoped>\n",
              "    .dataframe tbody tr th:only-of-type {\n",
              "        vertical-align: middle;\n",
              "    }\n",
              "\n",
              "    .dataframe tbody tr th {\n",
              "        vertical-align: top;\n",
              "    }\n",
              "\n",
              "    .dataframe thead th {\n",
              "        text-align: right;\n",
              "    }\n",
              "</style>\n",
              "<table border=\"1\" class=\"dataframe\">\n",
              "  <thead>\n",
              "    <tr style=\"text-align: right;\">\n",
              "      <th></th>\n",
              "      <th>business_id</th>\n",
              "      <th>name</th>\n",
              "      <th>address</th>\n",
              "      <th>city</th>\n",
              "      <th>state</th>\n",
              "      <th>postal_code</th>\n",
              "      <th>latitude</th>\n",
              "      <th>longitude</th>\n",
              "      <th>stars</th>\n",
              "      <th>review_count</th>\n",
              "      <th>is_open</th>\n",
              "      <th>attributes</th>\n",
              "      <th>categories</th>\n",
              "      <th>hours</th>\n",
              "    </tr>\n",
              "  </thead>\n",
              "  <tbody>\n",
              "    <tr>\n",
              "      <th>0</th>\n",
              "      <td>Yzvjg0SayhoZgCljUJRF9Q</td>\n",
              "      <td>Carlos Santo, NMD</td>\n",
              "      <td>8880 E Via Linda, Ste 107</td>\n",
              "      <td>Scottsdale</td>\n",
              "      <td>AZ</td>\n",
              "      <td>85258</td>\n",
              "      <td>33.569404</td>\n",
              "      <td>-111.890264</td>\n",
              "      <td>5.0</td>\n",
              "      <td>4</td>\n",
              "      <td>1</td>\n",
              "      <td>NaN</td>\n",
              "      <td>Health &amp; Medical, Fitness &amp; Instruction, Yoga,...</td>\n",
              "      <td>None</td>\n",
              "    </tr>\n",
              "    <tr>\n",
              "      <th>0</th>\n",
              "      <td>XNoUzKckATkOD1hP6vghZg</td>\n",
              "      <td>Felinus</td>\n",
              "      <td>3554 Rue Notre-Dame O</td>\n",
              "      <td>Montreal</td>\n",
              "      <td>QC</td>\n",
              "      <td>H4C 1P4</td>\n",
              "      <td>45.479984</td>\n",
              "      <td>-73.580070</td>\n",
              "      <td>5.0</td>\n",
              "      <td>5</td>\n",
              "      <td>1</td>\n",
              "      <td>None</td>\n",
              "      <td>Pets, Pet Services, Pet Groomers</td>\n",
              "      <td>None</td>\n",
              "    </tr>\n",
              "    <tr>\n",
              "      <th>0</th>\n",
              "      <td>6OAZjbxqM5ol29BuHsil3w</td>\n",
              "      <td>Nevada House of Hose</td>\n",
              "      <td>1015 Sharp Cir</td>\n",
              "      <td>North Las Vegas</td>\n",
              "      <td>NV</td>\n",
              "      <td>89030</td>\n",
              "      <td>36.219728</td>\n",
              "      <td>-115.127725</td>\n",
              "      <td>2.5</td>\n",
              "      <td>3</td>\n",
              "      <td>0</td>\n",
              "      <td>NaN</td>\n",
              "      <td>Hardware Stores, Home Services, Building Suppl...</td>\n",
              "      <td>NaN</td>\n",
              "    </tr>\n",
              "    <tr>\n",
              "      <th>0</th>\n",
              "      <td>51M2Kk903DFYI6gnB5I6SQ</td>\n",
              "      <td>USE MY GUY SERVICES LLC</td>\n",
              "      <td>4827 E Downing Cir</td>\n",
              "      <td>Mesa</td>\n",
              "      <td>AZ</td>\n",
              "      <td>85205</td>\n",
              "      <td>33.428065</td>\n",
              "      <td>-111.726648</td>\n",
              "      <td>4.5</td>\n",
              "      <td>26</td>\n",
              "      <td>1</td>\n",
              "      <td>NaN</td>\n",
              "      <td>Home Services, Plumbing, Electricians, Handyma...</td>\n",
              "      <td>NaN</td>\n",
              "    </tr>\n",
              "    <tr>\n",
              "      <th>0</th>\n",
              "      <td>cKyLV5oWZJ2NudWgqs8VZw</td>\n",
              "      <td>Oasis Auto Center - Gilbert</td>\n",
              "      <td>1720 W Elliot Rd, Ste 105</td>\n",
              "      <td>Gilbert</td>\n",
              "      <td>AZ</td>\n",
              "      <td>85233</td>\n",
              "      <td>33.350399</td>\n",
              "      <td>-111.827142</td>\n",
              "      <td>4.5</td>\n",
              "      <td>38</td>\n",
              "      <td>1</td>\n",
              "      <td>NaN</td>\n",
              "      <td>Auto Repair, Automotive, Oil Change Stations, ...</td>\n",
              "      <td>NaN</td>\n",
              "    </tr>\n",
              "  </tbody>\n",
              "</table>\n",
              "</div>"
            ],
            "text/plain": [
              "              business_id  ... hours\n",
              "0  Yzvjg0SayhoZgCljUJRF9Q  ...  None\n",
              "0  XNoUzKckATkOD1hP6vghZg  ...  None\n",
              "0  6OAZjbxqM5ol29BuHsil3w  ...   NaN\n",
              "0  51M2Kk903DFYI6gnB5I6SQ  ...   NaN\n",
              "0  cKyLV5oWZJ2NudWgqs8VZw  ...   NaN\n",
              "\n",
              "[5 rows x 14 columns]"
            ]
          },
          "metadata": {
            "tags": []
          },
          "execution_count": 41
        }
      ]
    },
    {
      "cell_type": "code",
      "metadata": {
        "id": "odFEa4ELyBzb"
      },
      "source": [
        "final_business.to_csv('business.csv', index=False)"
      ],
      "execution_count": null,
      "outputs": []
    },
    {
      "cell_type": "code",
      "metadata": {
        "id": "7KLqnKOFyBwB"
      },
      "source": [
        ""
      ],
      "execution_count": null,
      "outputs": []
    },
    {
      "cell_type": "code",
      "metadata": {
        "id": "quySGIzLyBtC"
      },
      "source": [
        "final_reviews=pd.read_csv(\"drive/MyDrive/DataScience_Datasets/Arjun/reviews.csv\")\n",
        "final_business=pd.read_csv(\"drive/MyDrive/DataScience_Datasets/Arjun/business.csv\")"
      ],
      "execution_count": null,
      "outputs": []
    },
    {
      "cell_type": "code",
      "metadata": {
        "id": "cqBl9alDwR5o",
        "colab": {
          "base_uri": "https://localhost:8080/"
        },
        "outputId": "bb2934ae-6410-4db8-9622-8f788b1e1217"
      },
      "source": [
        "final_reviews.shape, final_business.shape"
      ],
      "execution_count": null,
      "outputs": [
        {
          "output_type": "execute_result",
          "data": {
            "text/plain": [
              "((29999, 9), (29999, 14))"
            ]
          },
          "metadata": {
            "tags": []
          },
          "execution_count": 3
        }
      ]
    },
    {
      "cell_type": "code",
      "metadata": {
        "colab": {
          "base_uri": "https://localhost:8080/",
          "height": 306
        },
        "id": "bebBL3tSrkmH",
        "outputId": "c25a90f7-62ed-4754-d6ae-4d2824c34406"
      },
      "source": [
        "final_reviews.head(2)"
      ],
      "execution_count": null,
      "outputs": [
        {
          "output_type": "execute_result",
          "data": {
            "text/html": [
              "<div>\n",
              "<style scoped>\n",
              "    .dataframe tbody tr th:only-of-type {\n",
              "        vertical-align: middle;\n",
              "    }\n",
              "\n",
              "    .dataframe tbody tr th {\n",
              "        vertical-align: top;\n",
              "    }\n",
              "\n",
              "    .dataframe thead th {\n",
              "        text-align: right;\n",
              "    }\n",
              "</style>\n",
              "<table border=\"1\" class=\"dataframe\">\n",
              "  <thead>\n",
              "    <tr style=\"text-align: right;\">\n",
              "      <th></th>\n",
              "      <th>review_id</th>\n",
              "      <th>user_id</th>\n",
              "      <th>business_id</th>\n",
              "      <th>stars</th>\n",
              "      <th>useful</th>\n",
              "      <th>funny</th>\n",
              "      <th>cool</th>\n",
              "      <th>text</th>\n",
              "      <th>date</th>\n",
              "    </tr>\n",
              "  </thead>\n",
              "  <tbody>\n",
              "    <tr>\n",
              "      <th>0</th>\n",
              "      <td>UmFMZ8PyXZTY2QcwzsfQYA</td>\n",
              "      <td>nIJD_7ZXHq-FX8byPMOkMQ</td>\n",
              "      <td>lbrU8StCq3yDfr-QMnGrmQ</td>\n",
              "      <td>1.0</td>\n",
              "      <td>1</td>\n",
              "      <td>1</td>\n",
              "      <td>0</td>\n",
              "      <td>I am actually horrified this place is still in...</td>\n",
              "      <td>2013-12-07 03:16:52</td>\n",
              "    </tr>\n",
              "    <tr>\n",
              "      <th>1</th>\n",
              "      <td>LG2ZaYiOgpr2DK_90pYjNw</td>\n",
              "      <td>V34qejxNsCbcgD8C0HVk-Q</td>\n",
              "      <td>HQl28KMwrEKHqhFrrDqVNQ</td>\n",
              "      <td>5.0</td>\n",
              "      <td>1</td>\n",
              "      <td>0</td>\n",
              "      <td>0</td>\n",
              "      <td>I love Deagan's. I do. I really do. The atmosp...</td>\n",
              "      <td>2015-12-05 03:18:11</td>\n",
              "    </tr>\n",
              "  </tbody>\n",
              "</table>\n",
              "</div>"
            ],
            "text/plain": [
              "                review_id  ...                 date\n",
              "0  UmFMZ8PyXZTY2QcwzsfQYA  ...  2013-12-07 03:16:52\n",
              "1  LG2ZaYiOgpr2DK_90pYjNw  ...  2015-12-05 03:18:11\n",
              "\n",
              "[2 rows x 9 columns]"
            ]
          },
          "metadata": {
            "tags": []
          },
          "execution_count": 5
        }
      ]
    },
    {
      "cell_type": "code",
      "metadata": {
        "colab": {
          "base_uri": "https://localhost:8080/",
          "height": 254
        },
        "id": "CpLOe7GRrnYo",
        "outputId": "75c322d5-e0c9-40b7-c77f-e5fa5840c716"
      },
      "source": [
        "final_business.head(2)"
      ],
      "execution_count": null,
      "outputs": [
        {
          "output_type": "execute_result",
          "data": {
            "text/html": [
              "<div>\n",
              "<style scoped>\n",
              "    .dataframe tbody tr th:only-of-type {\n",
              "        vertical-align: middle;\n",
              "    }\n",
              "\n",
              "    .dataframe tbody tr th {\n",
              "        vertical-align: top;\n",
              "    }\n",
              "\n",
              "    .dataframe thead th {\n",
              "        text-align: right;\n",
              "    }\n",
              "</style>\n",
              "<table border=\"1\" class=\"dataframe\">\n",
              "  <thead>\n",
              "    <tr style=\"text-align: right;\">\n",
              "      <th></th>\n",
              "      <th>business_id</th>\n",
              "      <th>name</th>\n",
              "      <th>address</th>\n",
              "      <th>city</th>\n",
              "      <th>state</th>\n",
              "      <th>postal_code</th>\n",
              "      <th>latitude</th>\n",
              "      <th>longitude</th>\n",
              "      <th>business_stars</th>\n",
              "      <th>review_count</th>\n",
              "      <th>is_open</th>\n",
              "      <th>attributes</th>\n",
              "      <th>categories</th>\n",
              "      <th>hours</th>\n",
              "    </tr>\n",
              "  </thead>\n",
              "  <tbody>\n",
              "    <tr>\n",
              "      <th>0</th>\n",
              "      <td>Yzvjg0SayhoZgCljUJRF9Q</td>\n",
              "      <td>Carlos Santo, NMD</td>\n",
              "      <td>8880 E Via Linda, Ste 107</td>\n",
              "      <td>Scottsdale</td>\n",
              "      <td>AZ</td>\n",
              "      <td>85258</td>\n",
              "      <td>33.569404</td>\n",
              "      <td>-111.890264</td>\n",
              "      <td>5.0</td>\n",
              "      <td>4</td>\n",
              "      <td>1</td>\n",
              "      <td>NaN</td>\n",
              "      <td>Health &amp; Medical, Fitness &amp; Instruction, Yoga,...</td>\n",
              "      <td>NaN</td>\n",
              "    </tr>\n",
              "    <tr>\n",
              "      <th>1</th>\n",
              "      <td>XNoUzKckATkOD1hP6vghZg</td>\n",
              "      <td>Felinus</td>\n",
              "      <td>3554 Rue Notre-Dame O</td>\n",
              "      <td>Montreal</td>\n",
              "      <td>QC</td>\n",
              "      <td>H4C 1P4</td>\n",
              "      <td>45.479984</td>\n",
              "      <td>-73.580070</td>\n",
              "      <td>5.0</td>\n",
              "      <td>5</td>\n",
              "      <td>1</td>\n",
              "      <td>NaN</td>\n",
              "      <td>Pets, Pet Services, Pet Groomers</td>\n",
              "      <td>NaN</td>\n",
              "    </tr>\n",
              "  </tbody>\n",
              "</table>\n",
              "</div>"
            ],
            "text/plain": [
              "              business_id  ... hours\n",
              "0  Yzvjg0SayhoZgCljUJRF9Q  ...   NaN\n",
              "1  XNoUzKckATkOD1hP6vghZg  ...   NaN\n",
              "\n",
              "[2 rows x 14 columns]"
            ]
          },
          "metadata": {
            "tags": []
          },
          "execution_count": 14
        }
      ]
    },
    {
      "cell_type": "code",
      "metadata": {
        "id": "lJ4Y0-F0rvPN"
      },
      "source": [
        "final_business=final_business.rename(columns={'stars':'business_stars'})"
      ],
      "execution_count": null,
      "outputs": []
    },
    {
      "cell_type": "code",
      "metadata": {
        "id": "r4Hzbz35sB0u"
      },
      "source": [
        "final_reviews=final_reviews.rename(columns={'stars':'review_stars'})"
      ],
      "execution_count": null,
      "outputs": []
    },
    {
      "cell_type": "code",
      "metadata": {
        "id": "i0IELkOhsm0Y"
      },
      "source": [
        "final=pd.merge(left=final_reviews,right=final_business,on='business_id',how='left')"
      ],
      "execution_count": null,
      "outputs": []
    },
    {
      "cell_type": "code",
      "metadata": {
        "colab": {
          "base_uri": "https://localhost:8080/",
          "height": 306
        },
        "id": "uJN_NVHwtf-9",
        "outputId": "6bb8d590-74a0-4ef8-fadf-3b02ac070047"
      },
      "source": [
        "final.head(2)"
      ],
      "execution_count": null,
      "outputs": [
        {
          "output_type": "execute_result",
          "data": {
            "text/html": [
              "<div>\n",
              "<style scoped>\n",
              "    .dataframe tbody tr th:only-of-type {\n",
              "        vertical-align: middle;\n",
              "    }\n",
              "\n",
              "    .dataframe tbody tr th {\n",
              "        vertical-align: top;\n",
              "    }\n",
              "\n",
              "    .dataframe thead th {\n",
              "        text-align: right;\n",
              "    }\n",
              "</style>\n",
              "<table border=\"1\" class=\"dataframe\">\n",
              "  <thead>\n",
              "    <tr style=\"text-align: right;\">\n",
              "      <th></th>\n",
              "      <th>review_id</th>\n",
              "      <th>user_id</th>\n",
              "      <th>business_id</th>\n",
              "      <th>review_stars</th>\n",
              "      <th>useful</th>\n",
              "      <th>funny</th>\n",
              "      <th>cool</th>\n",
              "      <th>text</th>\n",
              "      <th>date</th>\n",
              "      <th>name</th>\n",
              "      <th>address</th>\n",
              "      <th>city</th>\n",
              "      <th>state</th>\n",
              "      <th>postal_code</th>\n",
              "      <th>latitude</th>\n",
              "      <th>longitude</th>\n",
              "      <th>business_stars</th>\n",
              "      <th>review_count</th>\n",
              "      <th>is_open</th>\n",
              "      <th>attributes</th>\n",
              "      <th>categories</th>\n",
              "      <th>hours</th>\n",
              "    </tr>\n",
              "  </thead>\n",
              "  <tbody>\n",
              "    <tr>\n",
              "      <th>0</th>\n",
              "      <td>UmFMZ8PyXZTY2QcwzsfQYA</td>\n",
              "      <td>nIJD_7ZXHq-FX8byPMOkMQ</td>\n",
              "      <td>lbrU8StCq3yDfr-QMnGrmQ</td>\n",
              "      <td>1.0</td>\n",
              "      <td>1</td>\n",
              "      <td>1</td>\n",
              "      <td>0</td>\n",
              "      <td>I am actually horrified this place is still in...</td>\n",
              "      <td>2013-12-07 03:16:52</td>\n",
              "      <td>Rio Hair Salon</td>\n",
              "      <td>2990 N Alma School Rd</td>\n",
              "      <td>Chandler</td>\n",
              "      <td>AZ</td>\n",
              "      <td>85224</td>\n",
              "      <td>33.348382</td>\n",
              "      <td>-111.859189</td>\n",
              "      <td>1.5</td>\n",
              "      <td>3.0</td>\n",
              "      <td>1.0</td>\n",
              "      <td>NaN</td>\n",
              "      <td>Beauty &amp; Spas, Hair Salons</td>\n",
              "      <td>NaN</td>\n",
              "    </tr>\n",
              "    <tr>\n",
              "      <th>1</th>\n",
              "      <td>LG2ZaYiOgpr2DK_90pYjNw</td>\n",
              "      <td>V34qejxNsCbcgD8C0HVk-Q</td>\n",
              "      <td>HQl28KMwrEKHqhFrrDqVNQ</td>\n",
              "      <td>5.0</td>\n",
              "      <td>1</td>\n",
              "      <td>0</td>\n",
              "      <td>0</td>\n",
              "      <td>I love Deagan's. I do. I really do. The atmosp...</td>\n",
              "      <td>2015-12-05 03:18:11</td>\n",
              "      <td>Deagan's Kitchen &amp; Bar</td>\n",
              "      <td>14810 Detroit Ave</td>\n",
              "      <td>Lakewood</td>\n",
              "      <td>OH</td>\n",
              "      <td>44107</td>\n",
              "      <td>41.485192</td>\n",
              "      <td>-81.800145</td>\n",
              "      <td>4.0</td>\n",
              "      <td>417.0</td>\n",
              "      <td>1.0</td>\n",
              "      <td>NaN</td>\n",
              "      <td>Restaurants, Gastropubs, Nightlife, American (...</td>\n",
              "      <td>NaN</td>\n",
              "    </tr>\n",
              "  </tbody>\n",
              "</table>\n",
              "</div>"
            ],
            "text/plain": [
              "                review_id  ... hours\n",
              "0  UmFMZ8PyXZTY2QcwzsfQYA  ...   NaN\n",
              "1  LG2ZaYiOgpr2DK_90pYjNw  ...   NaN\n",
              "\n",
              "[2 rows x 22 columns]"
            ]
          },
          "metadata": {
            "tags": []
          },
          "execution_count": 17
        }
      ]
    },
    {
      "cell_type": "code",
      "metadata": {
        "id": "tb2i9nWtthct"
      },
      "source": [
        "final.to_csv('drive/MyDrive/DataScience_Datasets/Arjun/final_data.csv', index=False)"
      ],
      "execution_count": null,
      "outputs": []
    },
    {
      "cell_type": "code",
      "metadata": {
        "id": "h3WieAzOtzHw"
      },
      "source": [
        ""
      ],
      "execution_count": null,
      "outputs": []
    }
  ]
}