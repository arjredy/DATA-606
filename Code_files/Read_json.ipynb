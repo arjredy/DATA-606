{
  "nbformat": 4,
  "nbformat_minor": 0,
  "metadata": {
    "colab": {
      "name": "Read_json.ipynb",
      "provenance": [],
      "collapsed_sections": []
    },
    "kernelspec": {
      "display_name": "Python 3",
      "name": "python3"
    }
  },
  "cells": [
    {
      "cell_type": "markdown",
      "metadata": {
        "id": "gznt6d1JTxAR"
      },
      "source": [
        "**Step 1:**\n",
        "As the dataset files which are downloaded from www.yelp.com/dataset are in the form of Json. Firstly, open the Json file with MS-Excel and save it with .xlsx or .csv extension.\n"
      ]
    },
    {
      "cell_type": "code",
      "metadata": {
        "id": "Y5uztXYdqW5L",
        "colab": {
          "base_uri": "https://localhost:8080/"
        },
        "outputId": "5722cb32-3604-47f1-af3f-e1f2e2b4199b"
      },
      "source": [
        "# Import libraries\n",
        "import pandas as pd\n",
        "from tqdm import tqdm\n",
        "tqdm.pandas()\n",
        "import json"
      ],
      "execution_count": null,
      "outputs": [
        {
          "output_type": "stream",
          "text": [
            "/usr/local/lib/python3.7/dist-packages/tqdm/std.py:658: FutureWarning: The Panel class is removed from pandas. Accessing it from the top-level namespace will also be removed in the next version\n",
            "  from pandas import Panel\n"
          ],
          "name": "stderr"
        }
      ]
    },
    {
      "cell_type": "code",
      "metadata": {
        "id": "WX1q8bdiqcCQ"
      },
      "source": [
        "# Read the reviews data file using pandas\n",
        "data=pd.read_excel(\"Reviews.xlsx\")"
      ],
      "execution_count": null,
      "outputs": []
    },
    {
      "cell_type": "code",
      "metadata": {
        "colab": {
          "base_uri": "https://localhost:8080/"
        },
        "id": "xlAiCQyUqyID",
        "outputId": "5d27192e-31b5-4f71-ad90-31bbe3181bde"
      },
      "source": [
        "# Number of rows and columns of the data file\n",
        "data.shape"
      ],
      "execution_count": null,
      "outputs": [
        {
          "output_type": "execute_result",
          "data": {
            "text/plain": [
              "(100000, 1)"
            ]
          },
          "metadata": {
            "tags": []
          },
          "execution_count": 4
        }
      ]
    },
    {
      "cell_type": "code",
      "metadata": {
        "id": "mzOyZrKlpvks",
        "colab": {
          "base_uri": "https://localhost:8080/",
          "height": 332
        },
        "outputId": "33d44dd3-c0b2-45a7-e320-b012cb6efdb2"
      },
      "source": [
        "# Finding the first two rows of data\n",
        "data.head(2)"
      ],
      "execution_count": null,
      "outputs": [
        {
          "output_type": "execute_result",
          "data": {
            "text/html": [
              "<div>\n",
              "<style scoped>\n",
              "    .dataframe tbody tr th:only-of-type {\n",
              "        vertical-align: middle;\n",
              "    }\n",
              "\n",
              "    .dataframe tbody tr th {\n",
              "        vertical-align: top;\n",
              "    }\n",
              "\n",
              "    .dataframe thead th {\n",
              "        text-align: right;\n",
              "    }\n",
              "</style>\n",
              "<table border=\"1\" class=\"dataframe\">\n",
              "  <thead>\n",
              "    <tr style=\"text-align: right;\">\n",
              "      <th></th>\n",
              "      <th>{\"review_id\":\"xQY8N_XvtGbearJ5X4QryQ\",\"user_id\":\"OwjRMXRC0KyPrIlcjaXeFQ\",\"business_id\":\"-MhfebM0QIsKt87iDN-FNw\",\"stars\":2.0,\"useful\":5,\"funny\":0,\"cool\":0,\"text\":\"As someone who has worked with many museums, I was eager to visit this gallery on my most recent trip to Las Vegas. When I saw they would be showing infamous eggs of the House of Faberge from the Virginia Museum of Fine Arts (VMFA), I knew I had to go!\\n\\nTucked away near the gelateria and the garden, the Gallery is pretty much hidden from view. It's what real estate agents would call \\\"cozy\\\" or \\\"charming\\\" - basically any euphemism for small.\\n\\nThat being said, you can still see wonderful art at a gallery of any size, so why the two *s you ask? Let me tell you:\\n\\n* pricing for this, while relatively inexpensive for a Las Vegas attraction, is completely over the top. For the space and the amount of art you can fit in there, it is a bit much.\\n* it's not kid friendly at all. Seriously, don't bring them.\\n* the security is not trained properly for the show. When the curating and design teams collaborate for exhibitions, there is a definite flow. That means visitors should view the art in a certain sequence, whether it be by historical period or cultural significance (this is how audio guides are usually developed). When I arrived in the gallery I could not tell where to start, and security was certainly not helpful. I was told to \\\"just look around\\\" and \\\"do whatever.\\\" \\n\\nAt such a *fine* institution, I find the lack of knowledge and respect for the art appalling.\",\"date\":\"2015-04-15 05:21:16\"}</th>\n",
              "    </tr>\n",
              "  </thead>\n",
              "  <tbody>\n",
              "    <tr>\n",
              "      <th>0</th>\n",
              "      <td>{\"review_id\":\"UmFMZ8PyXZTY2QcwzsfQYA\",\"user_id...</td>\n",
              "    </tr>\n",
              "    <tr>\n",
              "      <th>1</th>\n",
              "      <td>{\"review_id\":\"LG2ZaYiOgpr2DK_90pYjNw\",\"user_id...</td>\n",
              "    </tr>\n",
              "  </tbody>\n",
              "</table>\n",
              "</div>"
            ],
            "text/plain": [
              "  {\"review_id\":\"xQY8N_XvtGbearJ5X4QryQ\",\"user_id\":\"OwjRMXRC0KyPrIlcjaXeFQ\",\"business_id\":\"-MhfebM0QIsKt87iDN-FNw\",\"stars\":2.0,\"useful\":5,\"funny\":0,\"cool\":0,\"text\":\"As someone who has worked with many museums, I was eager to visit this gallery on my most recent trip to Las Vegas. When I saw they would be showing infamous eggs of the House of Faberge from the Virginia Museum of Fine Arts (VMFA), I knew I had to go!\\n\\nTucked away near the gelateria and the garden, the Gallery is pretty much hidden from view. It's what real estate agents would call \\\"cozy\\\" or \\\"charming\\\" - basically any euphemism for small.\\n\\nThat being said, you can still see wonderful art at a gallery of any size, so why the two *s you ask? Let me tell you:\\n\\n* pricing for this, while relatively inexpensive for a Las Vegas attraction, is completely over the top. For the space and the amount of art you can fit in there, it is a bit much.\\n* it's not kid friendly at all. Seriously, don't bring them.\\n* the security is not trained properly for the show. When the curating and design teams collaborate for exhibitions, there is a definite flow. That means visitors should view the art in a certain sequence, whether it be by historical period or cultural significance (this is how audio guides are usually developed). When I arrived in the gallery I could not tell where to start, and security was certainly not helpful. I was told to \\\"just look around\\\" and \\\"do whatever.\\\" \\n\\nAt such a *fine* institution, I find the lack of knowledge and respect for the art appalling.\",\"date\":\"2015-04-15 05:21:16\"}\n",
              "0  {\"review_id\":\"UmFMZ8PyXZTY2QcwzsfQYA\",\"user_id...                                                                                                                                                                                                                                                                                                                                                                                                                                                                                                                                                                                                                                                                                                                                                                                                                                                                                                                                                                                                                                                                                                                                                                                                                                                                                                                                                                                                                                                                                                                                                                                              \n",
              "1  {\"review_id\":\"LG2ZaYiOgpr2DK_90pYjNw\",\"user_id...                                                                                                                                                                                                                                                                                                                                                                                                                                                                                                                                                                                                                                                                                                                                                                                                                                                                                                                                                                                                                                                                                                                                                                                                                                                                                                                                                                                                                                                                                                                                                                                              "
            ]
          },
          "metadata": {
            "tags": []
          },
          "execution_count": 5
        }
      ]
    },
    {
      "cell_type": "code",
      "metadata": {
        "id": "Jsp0gXLTq4Kq"
      },
      "source": [
        "# Read the business data file using pandas\n",
        "bus=pd.read_excel(\"Business.xlsx\")"
      ],
      "execution_count": null,
      "outputs": []
    },
    {
      "cell_type": "code",
      "metadata": {
        "colab": {
          "base_uri": "https://localhost:8080/"
        },
        "id": "O4qNnfd3ropf",
        "outputId": "2bd242cb-9558-4df4-dd8b-007c05132a71"
      },
      "source": [
        "# Number of rows and columns of business file\n",
        "bus.shape"
      ],
      "execution_count": null,
      "outputs": [
        {
          "output_type": "execute_result",
          "data": {
            "text/plain": [
              "(99999, 1)"
            ]
          },
          "metadata": {
            "tags": []
          },
          "execution_count": 7
        }
      ]
    },
    {
      "cell_type": "code",
      "metadata": {
        "colab": {
          "base_uri": "https://localhost:8080/",
          "height": 309
        },
        "id": "xzFafk3Grpbz",
        "outputId": "ed8cd5cd-e6e4-47d0-ae57-baadb5161567"
      },
      "source": [
        "# Displaying first five rows of business file\n",
        "bus.head()"
      ],
      "execution_count": null,
      "outputs": [
        {
          "output_type": "execute_result",
          "data": {
            "text/html": [
              "<div>\n",
              "<style scoped>\n",
              "    .dataframe tbody tr th:only-of-type {\n",
              "        vertical-align: middle;\n",
              "    }\n",
              "\n",
              "    .dataframe tbody tr th {\n",
              "        vertical-align: top;\n",
              "    }\n",
              "\n",
              "    .dataframe thead th {\n",
              "        text-align: right;\n",
              "    }\n",
              "</style>\n",
              "<table border=\"1\" class=\"dataframe\">\n",
              "  <thead>\n",
              "    <tr style=\"text-align: right;\">\n",
              "      <th></th>\n",
              "      <th>{\"business_id\":\"f9NumwFMBDn751xgFiRbNA\",\"name\":\"The Range At Lake Norman\",\"address\":\"10913 Bailey Rd\",\"city\":\"Cornelius\",\"state\":\"NC\",\"postal_code\":\"28031\",\"latitude\":35.4627242,\"longitude\":-80.8526119,\"stars\":3.5,\"review_count\":36,\"is_open\":1,\"attributes\":{\"BusinessAcceptsCreditCards\":\"True\",\"BikeParking\":\"True\",\"GoodForKids\":\"False\",\"BusinessParking\":\"{'garage': False, 'street': False, 'validated': False, 'lot': True, 'valet': False}\",\"ByAppointmentOnly\":\"False\",\"RestaurantsPriceRange2\":\"3\"},\"categories\":\"Active Life, Gun\\/Rifle Ranges, Guns &amp; Ammo, Shopping\",\"hours\":{\"Monday\":\"10:0-18:0\",\"Tuesday\":\"11:0-20:0\",\"Wednesday\":\"10:0-18:0\",\"Thursday\":\"11:0-20:0\",\"Friday\":\"11:0-20:0\",\"Saturday\":\"11:0-20:0\",\"Sunday\":\"13:0-18:0\"}}</th>\n",
              "    </tr>\n",
              "  </thead>\n",
              "  <tbody>\n",
              "    <tr>\n",
              "      <th>0</th>\n",
              "      <td>{\"business_id\":\"Yzvjg0SayhoZgCljUJRF9Q\",\"name\"...</td>\n",
              "    </tr>\n",
              "    <tr>\n",
              "      <th>1</th>\n",
              "      <td>{\"business_id\":\"XNoUzKckATkOD1hP6vghZg\",\"name\"...</td>\n",
              "    </tr>\n",
              "    <tr>\n",
              "      <th>2</th>\n",
              "      <td>{\"business_id\":\"6OAZjbxqM5ol29BuHsil3w\",\"name\"...</td>\n",
              "    </tr>\n",
              "    <tr>\n",
              "      <th>3</th>\n",
              "      <td>{\"business_id\":\"51M2Kk903DFYI6gnB5I6SQ\",\"name\"...</td>\n",
              "    </tr>\n",
              "    <tr>\n",
              "      <th>4</th>\n",
              "      <td>{\"business_id\":\"cKyLV5oWZJ2NudWgqs8VZw\",\"name\"...</td>\n",
              "    </tr>\n",
              "  </tbody>\n",
              "</table>\n",
              "</div>"
            ],
            "text/plain": [
              "  {\"business_id\":\"f9NumwFMBDn751xgFiRbNA\",\"name\":\"The Range At Lake Norman\",\"address\":\"10913 Bailey Rd\",\"city\":\"Cornelius\",\"state\":\"NC\",\"postal_code\":\"28031\",\"latitude\":35.4627242,\"longitude\":-80.8526119,\"stars\":3.5,\"review_count\":36,\"is_open\":1,\"attributes\":{\"BusinessAcceptsCreditCards\":\"True\",\"BikeParking\":\"True\",\"GoodForKids\":\"False\",\"BusinessParking\":\"{'garage': False, 'street': False, 'validated': False, 'lot': True, 'valet': False}\",\"ByAppointmentOnly\":\"False\",\"RestaurantsPriceRange2\":\"3\"},\"categories\":\"Active Life, Gun\\/Rifle Ranges, Guns & Ammo, Shopping\",\"hours\":{\"Monday\":\"10:0-18:0\",\"Tuesday\":\"11:0-20:0\",\"Wednesday\":\"10:0-18:0\",\"Thursday\":\"11:0-20:0\",\"Friday\":\"11:0-20:0\",\"Saturday\":\"11:0-20:0\",\"Sunday\":\"13:0-18:0\"}}\n",
              "0  {\"business_id\":\"Yzvjg0SayhoZgCljUJRF9Q\",\"name\"...                                                                                                                                                                                                                                                                                                                                                                                                                                                                                                                                                                                                                                                                                                           \n",
              "1  {\"business_id\":\"XNoUzKckATkOD1hP6vghZg\",\"name\"...                                                                                                                                                                                                                                                                                                                                                                                                                                                                                                                                                                                                                                                                                                           \n",
              "2  {\"business_id\":\"6OAZjbxqM5ol29BuHsil3w\",\"name\"...                                                                                                                                                                                                                                                                                                                                                                                                                                                                                                                                                                                                                                                                                                           \n",
              "3  {\"business_id\":\"51M2Kk903DFYI6gnB5I6SQ\",\"name\"...                                                                                                                                                                                                                                                                                                                                                                                                                                                                                                                                                                                                                                                                                                           \n",
              "4  {\"business_id\":\"cKyLV5oWZJ2NudWgqs8VZw\",\"name\"...                                                                                                                                                                                                                                                                                                                                                                                                                                                                                                                                                                                                                                                                                                           "
            ]
          },
          "metadata": {
            "tags": []
          },
          "execution_count": 8
        }
      ]
    },
    {
      "cell_type": "markdown",
      "metadata": {
        "id": "SF_q9LMEcoFp"
      },
      "source": [
        "\n",
        "**Step 2:**\n",
        "Convert the Json file into dataframe using Json Loads. "
      ]
    },
    {
      "cell_type": "code",
      "metadata": {
        "colab": {
          "base_uri": "https://localhost:8080/"
        },
        "id": "2MbZ0i6Wrqod",
        "outputId": "493a29b7-1956-446c-d6ed-0d852c990857"
      },
      "source": [
        "# Loading the dataset file into a dataframe using Json Loads\n",
        "final_reviews=pd.DataFrame()\n",
        "for i in tqdm(range(0,data.shape[0])):\n",
        "  temp=pd.DataFrame(json.loads(data[data.index==i].iloc[0][0]),index=[0])\n",
        "  final_reviews=final_reviews.append(temp)"
      ],
      "execution_count": null,
      "outputs": [
        {
          "output_type": "stream",
          "text": [
            "100%|██████████| 100000/100000 [1:08:35<00:00, 24.30it/s]\n"
          ],
          "name": "stderr"
        }
      ]
    },
    {
      "cell_type": "code",
      "metadata": {
        "colab": {
          "base_uri": "https://localhost:8080/",
          "height": 612
        },
        "id": "YZMFYvUzsnYi",
        "outputId": "ec72363b-0a29-4ded-f554-b29fab3c9ed8"
      },
      "source": [
        "# Displaying first 5 rows of Reviews dataframe\n",
        "final_reviews.head()"
      ],
      "execution_count": null,
      "outputs": [
        {
          "output_type": "execute_result",
          "data": {
            "text/html": [
              "<div>\n",
              "<style scoped>\n",
              "    .dataframe tbody tr th:only-of-type {\n",
              "        vertical-align: middle;\n",
              "    }\n",
              "\n",
              "    .dataframe tbody tr th {\n",
              "        vertical-align: top;\n",
              "    }\n",
              "\n",
              "    .dataframe thead th {\n",
              "        text-align: right;\n",
              "    }\n",
              "</style>\n",
              "<table border=\"1\" class=\"dataframe\">\n",
              "  <thead>\n",
              "    <tr style=\"text-align: right;\">\n",
              "      <th></th>\n",
              "      <th>review_id</th>\n",
              "      <th>user_id</th>\n",
              "      <th>business_id</th>\n",
              "      <th>stars</th>\n",
              "      <th>useful</th>\n",
              "      <th>funny</th>\n",
              "      <th>cool</th>\n",
              "      <th>text</th>\n",
              "      <th>date</th>\n",
              "    </tr>\n",
              "  </thead>\n",
              "  <tbody>\n",
              "    <tr>\n",
              "      <th>0</th>\n",
              "      <td>UmFMZ8PyXZTY2QcwzsfQYA</td>\n",
              "      <td>nIJD_7ZXHq-FX8byPMOkMQ</td>\n",
              "      <td>lbrU8StCq3yDfr-QMnGrmQ</td>\n",
              "      <td>1.0</td>\n",
              "      <td>1</td>\n",
              "      <td>1</td>\n",
              "      <td>0</td>\n",
              "      <td>I am actually horrified this place is still in...</td>\n",
              "      <td>2013-12-07 03:16:52</td>\n",
              "    </tr>\n",
              "    <tr>\n",
              "      <th>0</th>\n",
              "      <td>LG2ZaYiOgpr2DK_90pYjNw</td>\n",
              "      <td>V34qejxNsCbcgD8C0HVk-Q</td>\n",
              "      <td>HQl28KMwrEKHqhFrrDqVNQ</td>\n",
              "      <td>5.0</td>\n",
              "      <td>1</td>\n",
              "      <td>0</td>\n",
              "      <td>0</td>\n",
              "      <td>I love Deagan's. I do. I really do. The atmosp...</td>\n",
              "      <td>2015-12-05 03:18:11</td>\n",
              "    </tr>\n",
              "    <tr>\n",
              "      <th>0</th>\n",
              "      <td>i6g_oA9Yf9Y31qt0wibXpw</td>\n",
              "      <td>ofKDkJKXSKZXu5xJNGiiBQ</td>\n",
              "      <td>5JxlZaqCnk1MnbgRirs40Q</td>\n",
              "      <td>1.0</td>\n",
              "      <td>0</td>\n",
              "      <td>0</td>\n",
              "      <td>0</td>\n",
              "      <td>Dismal, lukewarm, defrosted-tasting \"TexMex\" g...</td>\n",
              "      <td>2011-05-27 05:30:52</td>\n",
              "    </tr>\n",
              "    <tr>\n",
              "      <th>0</th>\n",
              "      <td>6TdNDKywdbjoTkizeMce8A</td>\n",
              "      <td>UgMW8bLE0QMJDCkQ1Ax5Mg</td>\n",
              "      <td>IS4cv902ykd8wj1TR0N3-A</td>\n",
              "      <td>4.0</td>\n",
              "      <td>0</td>\n",
              "      <td>0</td>\n",
              "      <td>0</td>\n",
              "      <td>Oh happy day, finally have a Canes near my cas...</td>\n",
              "      <td>2017-01-14 21:56:57</td>\n",
              "    </tr>\n",
              "    <tr>\n",
              "      <th>0</th>\n",
              "      <td>L2O_INwlrRuoX05KSjc4eg</td>\n",
              "      <td>5vD2kmE25YBrbayKhykNxQ</td>\n",
              "      <td>nlxHRv1zXGT0c0K51q3jDg</td>\n",
              "      <td>5.0</td>\n",
              "      <td>2</td>\n",
              "      <td>0</td>\n",
              "      <td>0</td>\n",
              "      <td>This is definitely my favorite fast food sub s...</td>\n",
              "      <td>2013-05-07 07:25:25</td>\n",
              "    </tr>\n",
              "  </tbody>\n",
              "</table>\n",
              "</div>"
            ],
            "text/plain": [
              "                review_id  ...                 date\n",
              "0  UmFMZ8PyXZTY2QcwzsfQYA  ...  2013-12-07 03:16:52\n",
              "0  LG2ZaYiOgpr2DK_90pYjNw  ...  2015-12-05 03:18:11\n",
              "0  i6g_oA9Yf9Y31qt0wibXpw  ...  2011-05-27 05:30:52\n",
              "0  6TdNDKywdbjoTkizeMce8A  ...  2017-01-14 21:56:57\n",
              "0  L2O_INwlrRuoX05KSjc4eg  ...  2013-05-07 07:25:25\n",
              "\n",
              "[5 rows x 9 columns]"
            ]
          },
          "metadata": {
            "tags": []
          },
          "execution_count": 13
        }
      ]
    },
    {
      "cell_type": "code",
      "metadata": {
        "id": "dhfQcHE8x5zZ"
      },
      "source": [
        "# Generate a csv file for reviews dataframe\n",
        "final_reviews.to_csv('reviews.csv', index=False)"
      ],
      "execution_count": null,
      "outputs": []
    },
    {
      "cell_type": "code",
      "metadata": {
        "colab": {
          "base_uri": "https://localhost:8080/"
        },
        "id": "N1V_EZU0x5ta",
        "outputId": "502d0274-9179-4a66-c7d5-d14b41ee8d65"
      },
      "source": [
        "# Loading the business dataset file into a dataframe using Json Loads\n",
        "final_business=pd.DataFrame()\n",
        "for i in tqdm(range(0,bus.shape[0])):\n",
        "  temp=pd.DataFrame(json.loads(bus[bus.index==i].iloc[0][0]),index=[0])\n",
        "  final_business=final_business.append(temp)"
      ],
      "execution_count": null,
      "outputs": [
        {
          "output_type": "stream",
          "text": [
            "100%|██████████| 99999/99999 [1:44:17<00:00, 15.98it/s]\n"
          ],
          "name": "stderr"
        }
      ]
    },
    {
      "cell_type": "code",
      "metadata": {
        "id": "pTtGpE9TyB3n",
        "colab": {
          "base_uri": "https://localhost:8080/",
          "height": 547
        },
        "outputId": "935df995-9e1e-4637-e21e-8bf63110532b"
      },
      "source": [
        "# # Displaying first 5 rows of business dataframe\n",
        "final_business.head()"
      ],
      "execution_count": null,
      "outputs": [
        {
          "output_type": "execute_result",
          "data": {
            "text/html": [
              "<div>\n",
              "<style scoped>\n",
              "    .dataframe tbody tr th:only-of-type {\n",
              "        vertical-align: middle;\n",
              "    }\n",
              "\n",
              "    .dataframe tbody tr th {\n",
              "        vertical-align: top;\n",
              "    }\n",
              "\n",
              "    .dataframe thead th {\n",
              "        text-align: right;\n",
              "    }\n",
              "</style>\n",
              "<table border=\"1\" class=\"dataframe\">\n",
              "  <thead>\n",
              "    <tr style=\"text-align: right;\">\n",
              "      <th></th>\n",
              "      <th>business_id</th>\n",
              "      <th>name</th>\n",
              "      <th>address</th>\n",
              "      <th>city</th>\n",
              "      <th>state</th>\n",
              "      <th>postal_code</th>\n",
              "      <th>latitude</th>\n",
              "      <th>longitude</th>\n",
              "      <th>stars</th>\n",
              "      <th>review_count</th>\n",
              "      <th>is_open</th>\n",
              "      <th>attributes</th>\n",
              "      <th>categories</th>\n",
              "      <th>hours</th>\n",
              "    </tr>\n",
              "  </thead>\n",
              "  <tbody>\n",
              "    <tr>\n",
              "      <th>0</th>\n",
              "      <td>Yzvjg0SayhoZgCljUJRF9Q</td>\n",
              "      <td>Carlos Santo, NMD</td>\n",
              "      <td>8880 E Via Linda, Ste 107</td>\n",
              "      <td>Scottsdale</td>\n",
              "      <td>AZ</td>\n",
              "      <td>85258</td>\n",
              "      <td>33.569404</td>\n",
              "      <td>-111.890264</td>\n",
              "      <td>5.0</td>\n",
              "      <td>4</td>\n",
              "      <td>1</td>\n",
              "      <td>NaN</td>\n",
              "      <td>Health &amp; Medical, Fitness &amp; Instruction, Yoga,...</td>\n",
              "      <td>None</td>\n",
              "    </tr>\n",
              "    <tr>\n",
              "      <th>0</th>\n",
              "      <td>XNoUzKckATkOD1hP6vghZg</td>\n",
              "      <td>Felinus</td>\n",
              "      <td>3554 Rue Notre-Dame O</td>\n",
              "      <td>Montreal</td>\n",
              "      <td>QC</td>\n",
              "      <td>H4C 1P4</td>\n",
              "      <td>45.479984</td>\n",
              "      <td>-73.580070</td>\n",
              "      <td>5.0</td>\n",
              "      <td>5</td>\n",
              "      <td>1</td>\n",
              "      <td>None</td>\n",
              "      <td>Pets, Pet Services, Pet Groomers</td>\n",
              "      <td>None</td>\n",
              "    </tr>\n",
              "    <tr>\n",
              "      <th>0</th>\n",
              "      <td>6OAZjbxqM5ol29BuHsil3w</td>\n",
              "      <td>Nevada House of Hose</td>\n",
              "      <td>1015 Sharp Cir</td>\n",
              "      <td>North Las Vegas</td>\n",
              "      <td>NV</td>\n",
              "      <td>89030</td>\n",
              "      <td>36.219728</td>\n",
              "      <td>-115.127725</td>\n",
              "      <td>2.5</td>\n",
              "      <td>3</td>\n",
              "      <td>0</td>\n",
              "      <td>NaN</td>\n",
              "      <td>Hardware Stores, Home Services, Building Suppl...</td>\n",
              "      <td>NaN</td>\n",
              "    </tr>\n",
              "    <tr>\n",
              "      <th>0</th>\n",
              "      <td>51M2Kk903DFYI6gnB5I6SQ</td>\n",
              "      <td>USE MY GUY SERVICES LLC</td>\n",
              "      <td>4827 E Downing Cir</td>\n",
              "      <td>Mesa</td>\n",
              "      <td>AZ</td>\n",
              "      <td>85205</td>\n",
              "      <td>33.428065</td>\n",
              "      <td>-111.726648</td>\n",
              "      <td>4.5</td>\n",
              "      <td>26</td>\n",
              "      <td>1</td>\n",
              "      <td>NaN</td>\n",
              "      <td>Home Services, Plumbing, Electricians, Handyma...</td>\n",
              "      <td>NaN</td>\n",
              "    </tr>\n",
              "    <tr>\n",
              "      <th>0</th>\n",
              "      <td>cKyLV5oWZJ2NudWgqs8VZw</td>\n",
              "      <td>Oasis Auto Center - Gilbert</td>\n",
              "      <td>1720 W Elliot Rd, Ste 105</td>\n",
              "      <td>Gilbert</td>\n",
              "      <td>AZ</td>\n",
              "      <td>85233</td>\n",
              "      <td>33.350399</td>\n",
              "      <td>-111.827142</td>\n",
              "      <td>4.5</td>\n",
              "      <td>38</td>\n",
              "      <td>1</td>\n",
              "      <td>NaN</td>\n",
              "      <td>Auto Repair, Automotive, Oil Change Stations, ...</td>\n",
              "      <td>NaN</td>\n",
              "    </tr>\n",
              "  </tbody>\n",
              "</table>\n",
              "</div>"
            ],
            "text/plain": [
              "              business_id  ... hours\n",
              "0  Yzvjg0SayhoZgCljUJRF9Q  ...  None\n",
              "0  XNoUzKckATkOD1hP6vghZg  ...  None\n",
              "0  6OAZjbxqM5ol29BuHsil3w  ...   NaN\n",
              "0  51M2Kk903DFYI6gnB5I6SQ  ...   NaN\n",
              "0  cKyLV5oWZJ2NudWgqs8VZw  ...   NaN\n",
              "\n",
              "[5 rows x 14 columns]"
            ]
          },
          "metadata": {
            "tags": []
          },
          "execution_count": 15
        }
      ]
    },
    {
      "cell_type": "code",
      "metadata": {
        "id": "odFEa4ELyBzb"
      },
      "source": [
        "# Generate a csv file for business dataframe\n",
        "final_business.to_csv('business.csv', index=False)"
      ],
      "execution_count": null,
      "outputs": []
    },
    {
      "cell_type": "code",
      "metadata": {
        "id": "quySGIzLyBtC"
      },
      "source": [
        "# Load the \"reviews.csv\" into final_reviews\n",
        "# Load the \"business.csv\" into final_business\n",
        "final_reviews=pd.read_csv(\"reviews.csv\")\n",
        "final_business=pd.read_csv(\"business.csv\")"
      ],
      "execution_count": null,
      "outputs": []
    },
    {
      "cell_type": "code",
      "metadata": {
        "id": "cqBl9alDwR5o",
        "colab": {
          "base_uri": "https://localhost:8080/"
        },
        "outputId": "764b7a14-d7ae-4550-83d1-b41157836309"
      },
      "source": [
        "# Displaying rows and columns of reviews and business files.\n",
        "final_reviews.shape, final_business.shape"
      ],
      "execution_count": null,
      "outputs": [
        {
          "output_type": "execute_result",
          "data": {
            "text/plain": [
              "((100000, 9), (99999, 14))"
            ]
          },
          "metadata": {
            "tags": []
          },
          "execution_count": 18
        }
      ]
    },
    {
      "cell_type": "code",
      "metadata": {
        "colab": {
          "base_uri": "https://localhost:8080/",
          "height": 179
        },
        "id": "bebBL3tSrkmH",
        "outputId": "9a8bdba2-7d88-4036-fcd4-748fd8fc65c5"
      },
      "source": [
        "# Displaying head of review file\n",
        "final_reviews.head(2)"
      ],
      "execution_count": null,
      "outputs": [
        {
          "output_type": "execute_result",
          "data": {
            "text/html": [
              "<div>\n",
              "<style scoped>\n",
              "    .dataframe tbody tr th:only-of-type {\n",
              "        vertical-align: middle;\n",
              "    }\n",
              "\n",
              "    .dataframe tbody tr th {\n",
              "        vertical-align: top;\n",
              "    }\n",
              "\n",
              "    .dataframe thead th {\n",
              "        text-align: right;\n",
              "    }\n",
              "</style>\n",
              "<table border=\"1\" class=\"dataframe\">\n",
              "  <thead>\n",
              "    <tr style=\"text-align: right;\">\n",
              "      <th></th>\n",
              "      <th>review_id</th>\n",
              "      <th>user_id</th>\n",
              "      <th>business_id</th>\n",
              "      <th>stars</th>\n",
              "      <th>useful</th>\n",
              "      <th>funny</th>\n",
              "      <th>cool</th>\n",
              "      <th>text</th>\n",
              "      <th>date</th>\n",
              "    </tr>\n",
              "  </thead>\n",
              "  <tbody>\n",
              "    <tr>\n",
              "      <th>0</th>\n",
              "      <td>UmFMZ8PyXZTY2QcwzsfQYA</td>\n",
              "      <td>nIJD_7ZXHq-FX8byPMOkMQ</td>\n",
              "      <td>lbrU8StCq3yDfr-QMnGrmQ</td>\n",
              "      <td>1.0</td>\n",
              "      <td>1</td>\n",
              "      <td>1</td>\n",
              "      <td>0</td>\n",
              "      <td>I am actually horrified this place is still in...</td>\n",
              "      <td>2013-12-07 03:16:52</td>\n",
              "    </tr>\n",
              "    <tr>\n",
              "      <th>1</th>\n",
              "      <td>LG2ZaYiOgpr2DK_90pYjNw</td>\n",
              "      <td>V34qejxNsCbcgD8C0HVk-Q</td>\n",
              "      <td>HQl28KMwrEKHqhFrrDqVNQ</td>\n",
              "      <td>5.0</td>\n",
              "      <td>1</td>\n",
              "      <td>0</td>\n",
              "      <td>0</td>\n",
              "      <td>I love Deagan's. I do. I really do. The atmosp...</td>\n",
              "      <td>2015-12-05 03:18:11</td>\n",
              "    </tr>\n",
              "  </tbody>\n",
              "</table>\n",
              "</div>"
            ],
            "text/plain": [
              "                review_id  ...                 date\n",
              "0  UmFMZ8PyXZTY2QcwzsfQYA  ...  2013-12-07 03:16:52\n",
              "1  LG2ZaYiOgpr2DK_90pYjNw  ...  2015-12-05 03:18:11\n",
              "\n",
              "[2 rows x 9 columns]"
            ]
          },
          "metadata": {
            "tags": []
          },
          "execution_count": 19
        }
      ]
    },
    {
      "cell_type": "code",
      "metadata": {
        "colab": {
          "base_uri": "https://localhost:8080/",
          "height": 250
        },
        "id": "CpLOe7GRrnYo",
        "outputId": "d2efd29a-385a-4a4f-effe-51c3e2d28abd"
      },
      "source": [
        "# Displaying head of business file\n",
        "final_business.head(2)"
      ],
      "execution_count": null,
      "outputs": [
        {
          "output_type": "execute_result",
          "data": {
            "text/html": [
              "<div>\n",
              "<style scoped>\n",
              "    .dataframe tbody tr th:only-of-type {\n",
              "        vertical-align: middle;\n",
              "    }\n",
              "\n",
              "    .dataframe tbody tr th {\n",
              "        vertical-align: top;\n",
              "    }\n",
              "\n",
              "    .dataframe thead th {\n",
              "        text-align: right;\n",
              "    }\n",
              "</style>\n",
              "<table border=\"1\" class=\"dataframe\">\n",
              "  <thead>\n",
              "    <tr style=\"text-align: right;\">\n",
              "      <th></th>\n",
              "      <th>business_id</th>\n",
              "      <th>name</th>\n",
              "      <th>address</th>\n",
              "      <th>city</th>\n",
              "      <th>state</th>\n",
              "      <th>postal_code</th>\n",
              "      <th>latitude</th>\n",
              "      <th>longitude</th>\n",
              "      <th>stars</th>\n",
              "      <th>review_count</th>\n",
              "      <th>is_open</th>\n",
              "      <th>attributes</th>\n",
              "      <th>categories</th>\n",
              "      <th>hours</th>\n",
              "    </tr>\n",
              "  </thead>\n",
              "  <tbody>\n",
              "    <tr>\n",
              "      <th>0</th>\n",
              "      <td>Yzvjg0SayhoZgCljUJRF9Q</td>\n",
              "      <td>Carlos Santo, NMD</td>\n",
              "      <td>8880 E Via Linda, Ste 107</td>\n",
              "      <td>Scottsdale</td>\n",
              "      <td>AZ</td>\n",
              "      <td>85258</td>\n",
              "      <td>33.569404</td>\n",
              "      <td>-111.890264</td>\n",
              "      <td>5.0</td>\n",
              "      <td>4</td>\n",
              "      <td>1</td>\n",
              "      <td>NaN</td>\n",
              "      <td>Health &amp; Medical, Fitness &amp; Instruction, Yoga,...</td>\n",
              "      <td>NaN</td>\n",
              "    </tr>\n",
              "    <tr>\n",
              "      <th>1</th>\n",
              "      <td>XNoUzKckATkOD1hP6vghZg</td>\n",
              "      <td>Felinus</td>\n",
              "      <td>3554 Rue Notre-Dame O</td>\n",
              "      <td>Montreal</td>\n",
              "      <td>QC</td>\n",
              "      <td>H4C 1P4</td>\n",
              "      <td>45.479984</td>\n",
              "      <td>-73.580070</td>\n",
              "      <td>5.0</td>\n",
              "      <td>5</td>\n",
              "      <td>1</td>\n",
              "      <td>NaN</td>\n",
              "      <td>Pets, Pet Services, Pet Groomers</td>\n",
              "      <td>NaN</td>\n",
              "    </tr>\n",
              "  </tbody>\n",
              "</table>\n",
              "</div>"
            ],
            "text/plain": [
              "              business_id  ... hours\n",
              "0  Yzvjg0SayhoZgCljUJRF9Q  ...   NaN\n",
              "1  XNoUzKckATkOD1hP6vghZg  ...   NaN\n",
              "\n",
              "[2 rows x 14 columns]"
            ]
          },
          "metadata": {
            "tags": []
          },
          "execution_count": 20
        }
      ]
    },
    {
      "cell_type": "code",
      "metadata": {
        "id": "lJ4Y0-F0rvPN"
      },
      "source": [
        "# As we have same column name as \"stars\" in both the files, rename the stars in final_business as \"business_stars\" \n",
        "final_business=final_business.rename(columns={'stars':'business_stars'})"
      ],
      "execution_count": null,
      "outputs": []
    },
    {
      "cell_type": "code",
      "metadata": {
        "id": "r4Hzbz35sB0u"
      },
      "source": [
        "# As we have same column name as \"stars\" in both the files, rename the stars in final_reviews as \"reviews_stars\"\n",
        "final_reviews=final_reviews.rename(columns={'stars':'review_stars'})"
      ],
      "execution_count": null,
      "outputs": []
    },
    {
      "cell_type": "markdown",
      "metadata": {
        "id": "d-zvBwodcvs7"
      },
      "source": [
        "\n",
        "\n",
        "**Step 3:** \n",
        "Merge the Business and reviews datasets on \"business_id\"."
      ]
    },
    {
      "cell_type": "code",
      "metadata": {
        "id": "i0IELkOhsm0Y"
      },
      "source": [
        "# Applying left merge on both the files using \"business_id\"\n",
        "final=pd.merge(left=final_reviews,right=final_business,on='business_id',how='left')"
      ],
      "execution_count": null,
      "outputs": []
    },
    {
      "cell_type": "code",
      "metadata": {
        "colab": {
          "base_uri": "https://localhost:8080/",
          "height": 284
        },
        "id": "uJN_NVHwtf-9",
        "outputId": "a7af5b31-38a6-4d83-879e-21f028f22244"
      },
      "source": [
        "# Displaying first two rows of final data\n",
        "final.head(2)"
      ],
      "execution_count": null,
      "outputs": [
        {
          "output_type": "execute_result",
          "data": {
            "text/html": [
              "<div>\n",
              "<style scoped>\n",
              "    .dataframe tbody tr th:only-of-type {\n",
              "        vertical-align: middle;\n",
              "    }\n",
              "\n",
              "    .dataframe tbody tr th {\n",
              "        vertical-align: top;\n",
              "    }\n",
              "\n",
              "    .dataframe thead th {\n",
              "        text-align: right;\n",
              "    }\n",
              "</style>\n",
              "<table border=\"1\" class=\"dataframe\">\n",
              "  <thead>\n",
              "    <tr style=\"text-align: right;\">\n",
              "      <th></th>\n",
              "      <th>review_id</th>\n",
              "      <th>user_id</th>\n",
              "      <th>business_id</th>\n",
              "      <th>review_stars</th>\n",
              "      <th>useful</th>\n",
              "      <th>funny</th>\n",
              "      <th>cool</th>\n",
              "      <th>text</th>\n",
              "      <th>date</th>\n",
              "      <th>name</th>\n",
              "      <th>address</th>\n",
              "      <th>city</th>\n",
              "      <th>state</th>\n",
              "      <th>postal_code</th>\n",
              "      <th>latitude</th>\n",
              "      <th>longitude</th>\n",
              "      <th>business_stars</th>\n",
              "      <th>review_count</th>\n",
              "      <th>is_open</th>\n",
              "      <th>attributes</th>\n",
              "      <th>categories</th>\n",
              "      <th>hours</th>\n",
              "    </tr>\n",
              "  </thead>\n",
              "  <tbody>\n",
              "    <tr>\n",
              "      <th>0</th>\n",
              "      <td>UmFMZ8PyXZTY2QcwzsfQYA</td>\n",
              "      <td>nIJD_7ZXHq-FX8byPMOkMQ</td>\n",
              "      <td>lbrU8StCq3yDfr-QMnGrmQ</td>\n",
              "      <td>1.0</td>\n",
              "      <td>1</td>\n",
              "      <td>1</td>\n",
              "      <td>0</td>\n",
              "      <td>I am actually horrified this place is still in...</td>\n",
              "      <td>2013-12-07 03:16:52</td>\n",
              "      <td>Rio Hair Salon</td>\n",
              "      <td>2990 N Alma School Rd</td>\n",
              "      <td>Chandler</td>\n",
              "      <td>AZ</td>\n",
              "      <td>85224</td>\n",
              "      <td>33.348382</td>\n",
              "      <td>-111.859189</td>\n",
              "      <td>1.5</td>\n",
              "      <td>3.0</td>\n",
              "      <td>1.0</td>\n",
              "      <td>NaN</td>\n",
              "      <td>Beauty &amp; Spas, Hair Salons</td>\n",
              "      <td>NaN</td>\n",
              "    </tr>\n",
              "    <tr>\n",
              "      <th>1</th>\n",
              "      <td>LG2ZaYiOgpr2DK_90pYjNw</td>\n",
              "      <td>V34qejxNsCbcgD8C0HVk-Q</td>\n",
              "      <td>HQl28KMwrEKHqhFrrDqVNQ</td>\n",
              "      <td>5.0</td>\n",
              "      <td>1</td>\n",
              "      <td>0</td>\n",
              "      <td>0</td>\n",
              "      <td>I love Deagan's. I do. I really do. The atmosp...</td>\n",
              "      <td>2015-12-05 03:18:11</td>\n",
              "      <td>Deagan's Kitchen &amp; Bar</td>\n",
              "      <td>14810 Detroit Ave</td>\n",
              "      <td>Lakewood</td>\n",
              "      <td>OH</td>\n",
              "      <td>44107</td>\n",
              "      <td>41.485192</td>\n",
              "      <td>-81.800145</td>\n",
              "      <td>4.0</td>\n",
              "      <td>417.0</td>\n",
              "      <td>1.0</td>\n",
              "      <td>NaN</td>\n",
              "      <td>Restaurants, Gastropubs, Nightlife, American (...</td>\n",
              "      <td>NaN</td>\n",
              "    </tr>\n",
              "  </tbody>\n",
              "</table>\n",
              "</div>"
            ],
            "text/plain": [
              "                review_id  ... hours\n",
              "0  UmFMZ8PyXZTY2QcwzsfQYA  ...   NaN\n",
              "1  LG2ZaYiOgpr2DK_90pYjNw  ...   NaN\n",
              "\n",
              "[2 rows x 22 columns]"
            ]
          },
          "metadata": {
            "tags": []
          },
          "execution_count": 24
        }
      ]
    },
    {
      "cell_type": "code",
      "metadata": {
        "id": "tb2i9nWtthct"
      },
      "source": [
        "# Converting the final data into \"final_data.csv\" for future use.\n",
        "final.to_csv('final_data.csv', index=False)"
      ],
      "execution_count": null,
      "outputs": []
    },
    {
      "cell_type": "code",
      "metadata": {
        "id": "h3WieAzOtzHw"
      },
      "source": [
        ""
      ],
      "execution_count": null,
      "outputs": []
    }
  ]
}