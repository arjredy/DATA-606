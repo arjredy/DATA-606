{
  "nbformat": 4,
  "nbformat_minor": 0,
  "metadata": {
    "colab": {
      "name": "LinearSVM_Restaurants.ipynb",
      "provenance": [],
      "collapsed_sections": []
    },
    "kernelspec": {
      "name": "python3",
      "display_name": "Python 3"
    },
    "language_info": {
      "name": "python"
    }
  },
  "cells": [
    {
      "cell_type": "code",
      "metadata": {
        "colab": {
          "base_uri": "https://localhost:8080/"
        },
        "id": "pkoig0fWAkFQ",
        "outputId": "87ea20fd-1ff0-4c25-bd4b-fec6aec5b203"
      },
      "source": [
        "# Import libraries\n",
        "import pandas as pd\n",
        "import numpy as np\n",
        "from nltk.tokenize import word_tokenize\n",
        "from nltk import pos_tag\n",
        "from nltk.corpus import stopwords\n",
        "from nltk.stem import WordNetLemmatizer\n",
        "from sklearn.preprocessing import LabelEncoder\n",
        "from collections import defaultdict\n",
        "from nltk.corpus import wordnet as wn\n",
        "from sklearn.feature_extraction.text import TfidfVectorizer\n",
        "from sklearn import model_selection, naive_bayes, svm\n",
        "from sklearn.metrics import accuracy_score\n",
        "from tqdm import tqdm\n",
        "tqdm.pandas()"
      ],
      "execution_count": null,
      "outputs": [
        {
          "output_type": "stream",
          "text": [
            "/usr/local/lib/python3.7/dist-packages/tqdm/std.py:658: FutureWarning: The Panel class is removed from pandas. Accessing it from the top-level namespace will also be removed in the next version\n",
            "  from pandas import Panel\n"
          ],
          "name": "stderr"
        }
      ]
    },
    {
      "cell_type": "code",
      "metadata": {
        "colab": {
          "base_uri": "https://localhost:8080/"
        },
        "id": "xl54Md1JArvW",
        "outputId": "a2ad01ee-fb86-4d69-cdec-3c65de12123c"
      },
      "source": [
        "# Import NLTK libraries\n",
        "import nltk\n",
        "nltk.download('punkt')\n",
        "nltk.download('wordnet')\n",
        "nltk.download('averaged_perceptron_tagger')\n",
        "nltk.download('stopwords')"
      ],
      "execution_count": null,
      "outputs": [
        {
          "output_type": "stream",
          "text": [
            "[nltk_data] Downloading package punkt to /root/nltk_data...\n",
            "[nltk_data]   Unzipping tokenizers/punkt.zip.\n",
            "[nltk_data] Downloading package wordnet to /root/nltk_data...\n",
            "[nltk_data]   Unzipping corpora/wordnet.zip.\n",
            "[nltk_data] Downloading package averaged_perceptron_tagger to\n",
            "[nltk_data]     /root/nltk_data...\n",
            "[nltk_data]   Unzipping taggers/averaged_perceptron_tagger.zip.\n",
            "[nltk_data] Downloading package stopwords to /root/nltk_data...\n",
            "[nltk_data]   Unzipping corpora/stopwords.zip.\n"
          ],
          "name": "stdout"
        },
        {
          "output_type": "execute_result",
          "data": {
            "text/plain": [
              "True"
            ]
          },
          "metadata": {
            "tags": []
          },
          "execution_count": 2
        }
      ]
    },
    {
      "cell_type": "code",
      "metadata": {
        "id": "xZheJa2VwcYR"
      },
      "source": [
        "# Applying filter to seperate restaurants data using features.\n",
        "t1=data.categories.value_counts().reset_index()\n",
        "filter=list(t1.head(108)['index'])\n",
        "filter_id=list(data[data.categories.isin(filter)]['review_id'])\n",
        "final=pd.read_csv('final_feature_reviews.csv')\n",
        "final['review_stars']=final['review_stars'].apply(lambda x : int(x-1))\n",
        "final=pd.merge(left=final, right=data[['review_id','useful','funny','cool','is_open','business_stars']], on='review_id', how='left')"
      ],
      "execution_count": null,
      "outputs": []
    },
    {
      "cell_type": "code",
      "metadata": {
        "id": "jXs8Dwr9AwpZ"
      },
      "source": [
        "# Import Pandas\n",
        "import pandas as pd\n",
        "# Read the final_rest_feature_reviews file (Features for restaurant file)\n",
        "data=pd.read_csv('final_rest_data.csv')\n",
        "data=data[['text','review_stars']]\n",
        "\n",
        "# Cleaning the data by dropping Null value data\n",
        "data['text'].dropna(inplace=True)\n",
        "# Use lowercace for the text in clean_text\n",
        "data['clean_text']=[i.lower() for i in data['text']]\n",
        "# Use word_tokenize for data in clean text which is used to split large sample of text into words\n",
        "data['clean_text']=[word_tokenize(i) for i in data['clean_text']]\n",
        "# Take clean text and review_stars for modelling\n",
        "data=data[['clean_text','review_stars']]"
      ],
      "execution_count": null,
      "outputs": []
    },
    {
      "cell_type": "code",
      "metadata": {
        "id": "zxXNYsDaBE4n"
      },
      "source": [
        "# Word Lemmatizer initially understands a word as Noun. To categorize a word with POS tag, word lemmatizer \n",
        "# needs to understand whether it is an adjective or verb or adverb.\n",
        "t_map = defaultdict(lambda : wn.NOUN)\n",
        "t_map['J'] = wn.ADJ\n",
        "t_map['V'] = wn.VERB\n",
        "t_map['R'] = wn.ADV"
      ],
      "execution_count": null,
      "outputs": []
    },
    {
      "cell_type": "code",
      "metadata": {
        "colab": {
          "base_uri": "https://localhost:8080/"
        },
        "id": "quFOwz6MBMmG",
        "outputId": "b98b9c34-2973-46c4-d8ed-4167bdbf12c6"
      },
      "source": [
        "for ind,ent in tqdm(enumerate(data['clean_text'])):\n",
        "    # Declare a list to store the words\n",
        "    word_list = []\n",
        "    # Initialize WordNetLemmatizer()\n",
        "    w_Lemmatized = WordNetLemmatizer()\n",
        "    # pos_tag function provides the 'tag' for the words whether it is a Noun(N) or Verb(V) or something.\n",
        "    for wrd, tag in pos_tag(ent):\n",
        "        # consider only alphabets and check for Stop words\n",
        "        if wrd not in stopwords.words('english') and wrd.isalpha():\n",
        "            w_Final = w_Lemmatized.lemmatize(wrd,t_map[tag[0]])\n",
        "            word_list.append(w_Final)\n",
        "    # After every iteration, list of processede words will be stored in 'text_final'\n",
        "    data.loc[ind,'text_final'] = str(word_list)\n",
        "\n",
        "\n"
      ],
      "execution_count": null,
      "outputs": [
        {
          "output_type": "stream",
          "text": [
            "66831it [29:10, 38.19it/s]\n"
          ],
          "name": "stderr"
        }
      ]
    },
    {
      "cell_type": "code",
      "metadata": {
        "colab": {
          "base_uri": "https://localhost:8080/"
        },
        "id": "FxdQGRF8GnxL",
        "outputId": "fa6f62f7-792e-4925-92ca-afb7a6c46cd0"
      },
      "source": [
        "data.shape"
      ],
      "execution_count": null,
      "outputs": [
        {
          "output_type": "execute_result",
          "data": {
            "text/plain": [
              "(66831, 3)"
            ]
          },
          "metadata": {
            "tags": []
          },
          "execution_count": 7
        }
      ]
    },
    {
      "cell_type": "code",
      "metadata": {
        "id": "WQEn8zlEBsap"
      },
      "source": [
        "data.to_csv('full_rest_data_tfidf.csv', index=False)\n"
      ],
      "execution_count": null,
      "outputs": []
    },
    {
      "cell_type": "code",
      "metadata": {
        "id": "79lpJ_BHCZy3"
      },
      "source": [
        "Train_X, Test_X, Train_Y, Test_Y = model_selection.train_test_split(data['text_final'],data['review_stars'],test_size=0.3)\n",
        "\n",
        "# Encode the target variable to transform Categorical data of string type into numerical values\n",
        "Encoder = LabelEncoder()\n",
        "Train_Y = Encoder.fit_transform(Train_Y)\n",
        "Test_Y = Encoder.fit_transform(Test_Y)\n",
        "\n",
        "# Vectorize the words by using TF-IDF Vectorizer to find how important a word in document compared to corpus\n",
        "tfidf_v = TfidfVectorizer(max_features=5000)\n",
        "tfidf_v.fit(data['text_final'])\n",
        "\n",
        "Train_X_Tfidf = tfidf_v.transform(Train_X)\n",
        "Test_X_Tfidf = tfidf_v.transform(Test_X)"
      ],
      "execution_count": null,
      "outputs": []
    },
    {
      "cell_type": "code",
      "metadata": {
        "id": "MjR3TSylCc22",
        "colab": {
          "base_uri": "https://localhost:8080/"
        },
        "outputId": "02a85b7a-152a-4df0-bdc8-f4c1d787b57d"
      },
      "source": [
        "SVM = svm.SVC(C=1.0, kernel='linear', degree=3, gamma='auto')\n",
        "SVM.fit(Train_X_Tfidf,Train_Y)\n",
        "\n",
        "# predict the labels on validation dataset\n",
        "predictions_SVM = SVM.predict(Test_X_Tfidf)\n",
        "\n",
        "# Use accuracy_score function to get the accuracy\n",
        "print(\"SVM Accuracy Score -> \",accuracy_score(predictions_SVM, Test_Y)*100)"
      ],
      "execution_count": 10,
      "outputs": [
        {
          "output_type": "stream",
          "text": [
            "SVM Accuracy Score ->  61.72568578553616\n"
          ],
          "name": "stdout"
        }
      ]
    },
    {
      "cell_type": "code",
      "metadata": {
        "id": "qzSFLnAyCe7B"
      },
      "source": [
        "# Download the \".pkl\" file direct model execution\n",
        "from sklearn.externals import joblib\n",
        "joblib.dump(SVM, 'svm_only_rest_cat.pkl')"
      ],
      "execution_count": null,
      "outputs": []
    },
    {
      "cell_type": "code",
      "metadata": {
        "colab": {
          "base_uri": "https://localhost:8080/",
          "height": 235
        },
        "id": "gRHpTC4ICkRP",
        "outputId": "b10ad5d6-9de7-4d0b-8bbb-2f716284303f"
      },
      "source": [
        "# Cross tab for actual vs Predicted\n",
        "pd.crosstab(Test_Y,predictions_SVM)"
      ],
      "execution_count": 12,
      "outputs": [
        {
          "output_type": "execute_result",
          "data": {
            "text/html": [
              "<div>\n",
              "<style scoped>\n",
              "    .dataframe tbody tr th:only-of-type {\n",
              "        vertical-align: middle;\n",
              "    }\n",
              "\n",
              "    .dataframe tbody tr th {\n",
              "        vertical-align: top;\n",
              "    }\n",
              "\n",
              "    .dataframe thead th {\n",
              "        text-align: right;\n",
              "    }\n",
              "</style>\n",
              "<table border=\"1\" class=\"dataframe\">\n",
              "  <thead>\n",
              "    <tr style=\"text-align: right;\">\n",
              "      <th>col_0</th>\n",
              "      <th>0</th>\n",
              "      <th>1</th>\n",
              "      <th>2</th>\n",
              "      <th>3</th>\n",
              "      <th>4</th>\n",
              "    </tr>\n",
              "    <tr>\n",
              "      <th>row_0</th>\n",
              "      <th></th>\n",
              "      <th></th>\n",
              "      <th></th>\n",
              "      <th></th>\n",
              "      <th></th>\n",
              "    </tr>\n",
              "  </thead>\n",
              "  <tbody>\n",
              "    <tr>\n",
              "      <th>0</th>\n",
              "      <td>1642</td>\n",
              "      <td>359</td>\n",
              "      <td>111</td>\n",
              "      <td>67</td>\n",
              "      <td>67</td>\n",
              "    </tr>\n",
              "    <tr>\n",
              "      <th>1</th>\n",
              "      <td>470</td>\n",
              "      <td>584</td>\n",
              "      <td>415</td>\n",
              "      <td>171</td>\n",
              "      <td>97</td>\n",
              "    </tr>\n",
              "    <tr>\n",
              "      <th>2</th>\n",
              "      <td>206</td>\n",
              "      <td>360</td>\n",
              "      <td>1024</td>\n",
              "      <td>853</td>\n",
              "      <td>258</td>\n",
              "    </tr>\n",
              "    <tr>\n",
              "      <th>3</th>\n",
              "      <td>75</td>\n",
              "      <td>101</td>\n",
              "      <td>474</td>\n",
              "      <td>2441</td>\n",
              "      <td>2088</td>\n",
              "    </tr>\n",
              "    <tr>\n",
              "      <th>4</th>\n",
              "      <td>71</td>\n",
              "      <td>36</td>\n",
              "      <td>125</td>\n",
              "      <td>1270</td>\n",
              "      <td>6685</td>\n",
              "    </tr>\n",
              "  </tbody>\n",
              "</table>\n",
              "</div>"
            ],
            "text/plain": [
              "col_0     0    1     2     3     4\n",
              "row_0                             \n",
              "0      1642  359   111    67    67\n",
              "1       470  584   415   171    97\n",
              "2       206  360  1024   853   258\n",
              "3        75  101   474  2441  2088\n",
              "4        71   36   125  1270  6685"
            ]
          },
          "metadata": {
            "tags": []
          },
          "execution_count": 12
        }
      ]
    },
    {
      "cell_type": "code",
      "metadata": {
        "colab": {
          "base_uri": "https://localhost:8080/"
        },
        "id": "EENLdLwBCmWh",
        "outputId": "5ddb0ac4-f690-4236-ce4f-5916933ad4f4"
      },
      "source": [
        "Train_X.shape, Train_X_Tfidf.shape"
      ],
      "execution_count": null,
      "outputs": [
        {
          "output_type": "execute_result",
          "data": {
            "text/plain": [
              "((46781,), (46781, 5000))"
            ]
          },
          "metadata": {
            "tags": []
          },
          "execution_count": 15
        }
      ]
    },
    {
      "cell_type": "code",
      "metadata": {
        "id": "zOt8gH5TCsiU",
        "colab": {
          "base_uri": "https://localhost:8080/",
          "height": 185
        },
        "outputId": "cc2fb3d1-cc18-4fe3-e87a-42c43d2380ce"
      },
      "source": [
        "# Loading the data to analyse the trend\n",
        "trend_data=pd.read_csv(\"final_rest_data.csv\")\n",
        "trend_data.head(1)"
      ],
      "execution_count": 2,
      "outputs": [
        {
          "output_type": "execute_result",
          "data": {
            "text/html": [
              "<div>\n",
              "<style scoped>\n",
              "    .dataframe tbody tr th:only-of-type {\n",
              "        vertical-align: middle;\n",
              "    }\n",
              "\n",
              "    .dataframe tbody tr th {\n",
              "        vertical-align: top;\n",
              "    }\n",
              "\n",
              "    .dataframe thead th {\n",
              "        text-align: right;\n",
              "    }\n",
              "</style>\n",
              "<table border=\"1\" class=\"dataframe\">\n",
              "  <thead>\n",
              "    <tr style=\"text-align: right;\">\n",
              "      <th></th>\n",
              "      <th>review_id</th>\n",
              "      <th>user_id</th>\n",
              "      <th>business_id</th>\n",
              "      <th>review_stars</th>\n",
              "      <th>useful</th>\n",
              "      <th>funny</th>\n",
              "      <th>cool</th>\n",
              "      <th>text</th>\n",
              "      <th>date</th>\n",
              "      <th>name</th>\n",
              "      <th>address</th>\n",
              "      <th>city</th>\n",
              "      <th>state</th>\n",
              "      <th>postal_code</th>\n",
              "      <th>latitude</th>\n",
              "      <th>longitude</th>\n",
              "      <th>business_stars</th>\n",
              "      <th>review_count</th>\n",
              "      <th>is_open</th>\n",
              "      <th>attributes</th>\n",
              "      <th>categories</th>\n",
              "      <th>hours</th>\n",
              "    </tr>\n",
              "  </thead>\n",
              "  <tbody>\n",
              "    <tr>\n",
              "      <th>0</th>\n",
              "      <td>LG2ZaYiOgpr2DK_90pYjNw</td>\n",
              "      <td>V34qejxNsCbcgD8C0HVk-Q</td>\n",
              "      <td>HQl28KMwrEKHqhFrrDqVNQ</td>\n",
              "      <td>5.0</td>\n",
              "      <td>1</td>\n",
              "      <td>0</td>\n",
              "      <td>0</td>\n",
              "      <td>I love Deagan's. I do. I really do. The atmosp...</td>\n",
              "      <td>2015-12-05 03:18:11</td>\n",
              "      <td>Deagan's Kitchen &amp; Bar</td>\n",
              "      <td>14810 Detroit Ave</td>\n",
              "      <td>Lakewood</td>\n",
              "      <td>OH</td>\n",
              "      <td>44107</td>\n",
              "      <td>41.485192</td>\n",
              "      <td>-81.800145</td>\n",
              "      <td>4.0</td>\n",
              "      <td>417.0</td>\n",
              "      <td>1.0</td>\n",
              "      <td>NaN</td>\n",
              "      <td>Restaurants, Gastropubs, Nightlife, American (...</td>\n",
              "      <td>NaN</td>\n",
              "    </tr>\n",
              "  </tbody>\n",
              "</table>\n",
              "</div>"
            ],
            "text/plain": [
              "                review_id  ... hours\n",
              "0  LG2ZaYiOgpr2DK_90pYjNw  ...   NaN\n",
              "\n",
              "[1 rows x 22 columns]"
            ]
          },
          "metadata": {
            "tags": []
          },
          "execution_count": 2
        }
      ]
    },
    {
      "cell_type": "code",
      "metadata": {
        "colab": {
          "base_uri": "https://localhost:8080/",
          "height": 669
        },
        "id": "cQ-Z75okxDL1",
        "outputId": "b2b6cf18-a28b-4729-9563-4ddadb8b1274"
      },
      "source": [
        "# Based on restaurants filter, map the buiness id with the restaurant id \n",
        "trend_rest=trend_data[trend_data.business_id=='rcaPajgKOJC2vo_l3xa42A']\n",
        "# Storing date and review \n",
        "trend_rest=trend_rest[['date','review_stars']]\n",
        "trend_rest['date']=pd.to_datetime(trend_rest['date'])\n",
        "trend_rest['year']=trend_rest['date'].apply(lambda x : str(x)[0:4])\n",
        "trend_rest.head(20)"
      ],
      "execution_count": 8,
      "outputs": [
        {
          "output_type": "execute_result",
          "data": {
            "text/html": [
              "<div>\n",
              "<style scoped>\n",
              "    .dataframe tbody tr th:only-of-type {\n",
              "        vertical-align: middle;\n",
              "    }\n",
              "\n",
              "    .dataframe tbody tr th {\n",
              "        vertical-align: top;\n",
              "    }\n",
              "\n",
              "    .dataframe thead th {\n",
              "        text-align: right;\n",
              "    }\n",
              "</style>\n",
              "<table border=\"1\" class=\"dataframe\">\n",
              "  <thead>\n",
              "    <tr style=\"text-align: right;\">\n",
              "      <th></th>\n",
              "      <th>date</th>\n",
              "      <th>review_stars</th>\n",
              "      <th>year</th>\n",
              "    </tr>\n",
              "  </thead>\n",
              "  <tbody>\n",
              "    <tr>\n",
              "      <th>53</th>\n",
              "      <td>2011-11-30 00:51:49</td>\n",
              "      <td>5.0</td>\n",
              "      <td>2011</td>\n",
              "    </tr>\n",
              "    <tr>\n",
              "      <th>110</th>\n",
              "      <td>2016-01-04 04:06:15</td>\n",
              "      <td>4.0</td>\n",
              "      <td>2016</td>\n",
              "    </tr>\n",
              "    <tr>\n",
              "      <th>311</th>\n",
              "      <td>2012-11-06 06:27:17</td>\n",
              "      <td>5.0</td>\n",
              "      <td>2012</td>\n",
              "    </tr>\n",
              "    <tr>\n",
              "      <th>407</th>\n",
              "      <td>2016-07-03 16:50:57</td>\n",
              "      <td>5.0</td>\n",
              "      <td>2016</td>\n",
              "    </tr>\n",
              "    <tr>\n",
              "      <th>429</th>\n",
              "      <td>2010-11-22 05:17:02</td>\n",
              "      <td>4.0</td>\n",
              "      <td>2010</td>\n",
              "    </tr>\n",
              "    <tr>\n",
              "      <th>476</th>\n",
              "      <td>2010-11-22 05:21:18</td>\n",
              "      <td>4.0</td>\n",
              "      <td>2010</td>\n",
              "    </tr>\n",
              "    <tr>\n",
              "      <th>595</th>\n",
              "      <td>2008-12-03 23:01:31</td>\n",
              "      <td>4.0</td>\n",
              "      <td>2008</td>\n",
              "    </tr>\n",
              "    <tr>\n",
              "      <th>751</th>\n",
              "      <td>2018-08-04 21:24:32</td>\n",
              "      <td>5.0</td>\n",
              "      <td>2018</td>\n",
              "    </tr>\n",
              "    <tr>\n",
              "      <th>950</th>\n",
              "      <td>2013-05-07 01:49:07</td>\n",
              "      <td>4.0</td>\n",
              "      <td>2013</td>\n",
              "    </tr>\n",
              "    <tr>\n",
              "      <th>1014</th>\n",
              "      <td>2009-05-21 14:42:13</td>\n",
              "      <td>2.0</td>\n",
              "      <td>2009</td>\n",
              "    </tr>\n",
              "    <tr>\n",
              "      <th>1084</th>\n",
              "      <td>2013-09-04 02:00:58</td>\n",
              "      <td>1.0</td>\n",
              "      <td>2013</td>\n",
              "    </tr>\n",
              "    <tr>\n",
              "      <th>1259</th>\n",
              "      <td>2013-04-10 21:08:56</td>\n",
              "      <td>5.0</td>\n",
              "      <td>2013</td>\n",
              "    </tr>\n",
              "    <tr>\n",
              "      <th>1403</th>\n",
              "      <td>2009-10-14 02:53:46</td>\n",
              "      <td>4.0</td>\n",
              "      <td>2009</td>\n",
              "    </tr>\n",
              "    <tr>\n",
              "      <th>1471</th>\n",
              "      <td>2015-04-01 17:16:53</td>\n",
              "      <td>5.0</td>\n",
              "      <td>2015</td>\n",
              "    </tr>\n",
              "    <tr>\n",
              "      <th>1512</th>\n",
              "      <td>2011-02-13 16:40:37</td>\n",
              "      <td>3.0</td>\n",
              "      <td>2011</td>\n",
              "    </tr>\n",
              "    <tr>\n",
              "      <th>1552</th>\n",
              "      <td>2011-01-09 04:40:43</td>\n",
              "      <td>4.0</td>\n",
              "      <td>2011</td>\n",
              "    </tr>\n",
              "    <tr>\n",
              "      <th>1594</th>\n",
              "      <td>2006-04-20 20:06:16</td>\n",
              "      <td>4.0</td>\n",
              "      <td>2006</td>\n",
              "    </tr>\n",
              "    <tr>\n",
              "      <th>1642</th>\n",
              "      <td>2012-09-10 17:02:21</td>\n",
              "      <td>4.0</td>\n",
              "      <td>2012</td>\n",
              "    </tr>\n",
              "    <tr>\n",
              "      <th>1671</th>\n",
              "      <td>2014-11-30 01:39:53</td>\n",
              "      <td>5.0</td>\n",
              "      <td>2014</td>\n",
              "    </tr>\n",
              "    <tr>\n",
              "      <th>1718</th>\n",
              "      <td>2012-10-08 14:27:04</td>\n",
              "      <td>5.0</td>\n",
              "      <td>2012</td>\n",
              "    </tr>\n",
              "  </tbody>\n",
              "</table>\n",
              "</div>"
            ],
            "text/plain": [
              "                    date  review_stars  year\n",
              "53   2011-11-30 00:51:49           5.0  2011\n",
              "110  2016-01-04 04:06:15           4.0  2016\n",
              "311  2012-11-06 06:27:17           5.0  2012\n",
              "407  2016-07-03 16:50:57           5.0  2016\n",
              "429  2010-11-22 05:17:02           4.0  2010\n",
              "476  2010-11-22 05:21:18           4.0  2010\n",
              "595  2008-12-03 23:01:31           4.0  2008\n",
              "751  2018-08-04 21:24:32           5.0  2018\n",
              "950  2013-05-07 01:49:07           4.0  2013\n",
              "1014 2009-05-21 14:42:13           2.0  2009\n",
              "1084 2013-09-04 02:00:58           1.0  2013\n",
              "1259 2013-04-10 21:08:56           5.0  2013\n",
              "1403 2009-10-14 02:53:46           4.0  2009\n",
              "1471 2015-04-01 17:16:53           5.0  2015\n",
              "1512 2011-02-13 16:40:37           3.0  2011\n",
              "1552 2011-01-09 04:40:43           4.0  2011\n",
              "1594 2006-04-20 20:06:16           4.0  2006\n",
              "1642 2012-09-10 17:02:21           4.0  2012\n",
              "1671 2014-11-30 01:39:53           5.0  2014\n",
              "1718 2012-10-08 14:27:04           5.0  2012"
            ]
          },
          "metadata": {
            "tags": []
          },
          "execution_count": 8
        }
      ]
    },
    {
      "cell_type": "code",
      "metadata": {
        "colab": {
          "base_uri": "https://localhost:8080/",
          "height": 405
        },
        "id": "u5dIrJIIxFmX",
        "outputId": "c0d00ca2-638e-434e-9547-b3072f036128"
      },
      "source": [
        "trend=trend_rest[['year','review_stars']].groupby('year')['review_stars'].mean().reset_index()\n",
        "import seaborn as sns\n",
        "import matplotlib.pyplot as plt\n",
        "f, ax = plt.subplots(figsize=(10, 6))\n",
        "sns.barplot(x=\"year\", y=\"review_stars\",data=trend)"
      ],
      "execution_count": 6,
      "outputs": [
        {
          "output_type": "execute_result",
          "data": {
            "text/plain": [
              "<matplotlib.axes._subplots.AxesSubplot at 0x7f047e082510>"
            ]
          },
          "metadata": {
            "tags": []
          },
          "execution_count": 6
        },
        {
          "output_type": "display_data",
          "data": {
            "image/png": "[encoded data removed]",
            "text/plain": [
              "<Figure size 720x432 with 1 Axes>"
            ]
          },
          "metadata": {
            "tags": [],
            "needs_background": "light"
          }
        }
      ]
    },
    {
      "cell_type": "markdown",
      "metadata": {
        "id": "MBGubRbyyk5o"
      },
      "source": [
        "For a business ID: rcaPajgKOJC2vo_l3xa42A, the review rating from 2005 to 2013 remained almost from 3.9 to 4.2. Overall there was no drastic downfall in the yearly rating. So, by this, reviews and ratings helped the restaurants to know their customer's feedback and make changes in order to improve their business."
      ]
    },
    {
      "cell_type": "code",
      "metadata": {
        "id": "-kjvKEZXxwhd"
      },
      "source": [
        ""
      ],
      "execution_count": null,
      "outputs": []
    }
  ]
}